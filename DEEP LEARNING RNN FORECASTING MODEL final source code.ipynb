{
 "cells": [
  {
   "cell_type": "markdown",
   "metadata": {},
   "source": [
    "## Model : RNN\n",
    "RNN(Recurrent Neural Network) handles sequences which is different from a fully connected DNN showed previously.\n",
    "The key idea here: time-series datasets are sequences.\n",
    "Step 1: Data Preprocessing\n",
    "RNN input shape: (batch_size, window size, input_features)\n",
    "Import helper function to create matrix"
   ]
  },
  {
   "cell_type": "code",
   "execution_count": 1,
   "metadata": {},
   "outputs": [],
   "source": [
    "import pandas as pd\n",
    "data = pd.read_csv(\"timeseries_salesdata.csv\")\n",
    "data.set_index(\"Date\", inplace =True)\n",
    "test_set = pd.DataFrame(data['Sales'].tail(96))"
   ]
  },
  {
   "cell_type": "code",
   "execution_count": 2,
   "metadata": {},
   "outputs": [
    {
     "data": {
      "text/html": [
       "<div>\n",
       "<style scoped>\n",
       "    .dataframe tbody tr th:only-of-type {\n",
       "        vertical-align: middle;\n",
       "    }\n",
       "\n",
       "    .dataframe tbody tr th {\n",
       "        vertical-align: top;\n",
       "    }\n",
       "\n",
       "    .dataframe thead th {\n",
       "        text-align: right;\n",
       "    }\n",
       "</style>\n",
       "<table border=\"1\" class=\"dataframe\">\n",
       "  <thead>\n",
       "    <tr style=\"text-align: right;\">\n",
       "      <th></th>\n",
       "      <th>Sales</th>\n",
       "    </tr>\n",
       "    <tr>\n",
       "      <th>Date</th>\n",
       "      <th></th>\n",
       "    </tr>\n",
       "  </thead>\n",
       "  <tbody>\n",
       "    <tr>\n",
       "      <th>11-Apr-18</th>\n",
       "      <td>4388.23</td>\n",
       "    </tr>\n",
       "    <tr>\n",
       "      <th>12-Apr-18</th>\n",
       "      <td>5206.76</td>\n",
       "    </tr>\n",
       "    <tr>\n",
       "      <th>13-Apr-18</th>\n",
       "      <td>1784.65</td>\n",
       "    </tr>\n",
       "    <tr>\n",
       "      <th>14-Apr-18</th>\n",
       "      <td>2419.71</td>\n",
       "    </tr>\n",
       "    <tr>\n",
       "      <th>15-Apr-18</th>\n",
       "      <td>2462.46</td>\n",
       "    </tr>\n",
       "  </tbody>\n",
       "</table>\n",
       "</div>"
      ],
      "text/plain": [
       "             Sales\n",
       "Date              \n",
       "11-Apr-18  4388.23\n",
       "12-Apr-18  5206.76\n",
       "13-Apr-18  1784.65\n",
       "14-Apr-18  2419.71\n",
       "15-Apr-18  2462.46"
      ]
     },
     "execution_count": 2,
     "metadata": {},
     "output_type": "execute_result"
    }
   ],
   "source": [
    "data.head() "
   ]
  },
  {
   "cell_type": "code",
   "execution_count": 3,
   "metadata": {},
   "outputs": [],
   "source": [
    "import numpy as np\n",
    "from matplotlib import pyplot\n",
    "import matplotlib.pyplot as plt"
   ]
  },
  {
   "cell_type": "code",
   "execution_count": null,
   "metadata": {},
   "outputs": [],
   "source": []
  },
  {
   "cell_type": "code",
   "execution_count": 4,
   "metadata": {},
   "outputs": [],
   "source": [
    "def convert2matrix(data_arr, look_back):\n",
    "   X, Y =[], []\n",
    "   for i in range(len(data_arr)-look_back):\n",
    "        d=i+look_back  \n",
    "        X.append(data_arr[i:d,])\n",
    "        Y.append(data_arr[d,])\n",
    "   return np.array(X), np.array(Y)"
   ]
  },
  {
   "cell_type": "code",
   "execution_count": 5,
   "metadata": {},
   "outputs": [],
   "source": [
    "train_size = 900\n",
    "train,test = data.values[0:train_size,:], data.values[train_size:len(data.values),:]\n",
    "look_back = 30 #create window size as look_back=30\n",
    "test = np.append(test,np.repeat(test[-1,], look_back))\n",
    "train = np.append(train,np.repeat(train[-1,],look_back))\n",
    "trainX,trainY =convert2matrix(train,look_back)\n",
    "testX,testY =convert2matrix(test, look_back)\n",
    "# reshape input to be [samples, window size, features]\n",
    "trainX = np.reshape(trainX, (trainX.shape[0], 1, trainX.shape[1]))\n",
    "testX = np.reshape(testX, (testX.shape[0], 1, testX.shape[1]))"
   ]
  },
  {
   "cell_type": "code",
   "execution_count": 6,
   "metadata": {},
   "outputs": [
    {
     "name": "stdout",
     "output_type": "stream",
     "text": [
      "(900, 1, 30)\n",
      "(900,)\n",
      "(96, 1, 30)\n",
      "(96,)\n"
     ]
    }
   ],
   "source": [
    "print(trainX.shape)\n",
    "print(trainY.shape)\n",
    "print(testX.shape)\n",
    "print(testY.shape)"
   ]
  },
  {
   "cell_type": "code",
   "execution_count": 7,
   "metadata": {},
   "outputs": [],
   "source": [
    "#Step 2: Define neural network shape and compile model\n",
    "#Built a RNN model with two hidden layers.\n",
    "\n",
    "from keras.models import Sequential\n",
    "from keras.layers import Dense, SimpleRNN\n",
    "from keras.callbacks import EarlyStopping\n",
    "def model_rnn(look_back):\n",
    "  model=Sequential()\n",
    "  model.add(SimpleRNN(units=32, input_shape=(1,look_back), activation=\"relu\"))\n",
    "  model.add(Dense(8, activation='relu'))\n",
    "  model.add(Dense(1))\n",
    "  model.compile(loss='mean_squared_error',  optimizer='adam',metrics = ['mse', 'mae'])\n",
    "  return model"
   ]
  },
  {
   "cell_type": "code",
   "execution_count": 8,
   "metadata": {},
   "outputs": [
    {
     "name": "stdout",
     "output_type": "stream",
     "text": [
      "Epoch 1/100\n",
      "30/30 [==============================] - 66s 108ms/step - loss: 3176454.8468 - mse: 3176454.7177 - mae: 1318.1602 - val_loss: 14825711.0000 - val_mse: 14825709.0000 - val_mae: 2974.8672\n",
      "Epoch 2/100\n",
      "30/30 [==============================] - 0s 13ms/step - loss: 1731021.9980 - mse: 1731021.9980 - mae: 901.2759 - val_loss: 11772784.0000 - val_mse: 11772784.0000 - val_mae: 2604.5598\n",
      "Epoch 3/100\n",
      "30/30 [==============================] - 0s 11ms/step - loss: 1490313.9516 - mse: 1490313.9516 - mae: 835.6201 - val_loss: 10505449.0000 - val_mse: 10505449.0000 - val_mae: 2432.9490\n",
      "Epoch 4/100\n",
      "30/30 [==============================] - 1s 18ms/step - loss: 1319752.8105 - mse: 1319752.9234 - mae: 780.8094 - val_loss: 9687671.0000 - val_mse: 9687671.0000 - val_mae: 2287.6042\n",
      "Epoch 5/100\n",
      "30/30 [==============================] - 0s 11ms/step - loss: 1201932.7198 - mse: 1201932.7198 - mae: 742.9614 - val_loss: 9224313.0000 - val_mse: 9224313.0000 - val_mae: 2177.5276\n",
      "Epoch 6/100\n",
      "30/30 [==============================] - 0s 11ms/step - loss: 1136935.0161 - mse: 1136935.0353 - mae: 725.6245 - val_loss: 8763677.0000 - val_mse: 8763677.0000 - val_mae: 2072.8108\n",
      "Epoch 7/100\n",
      "30/30 [==============================] - 1s 17ms/step - loss: 1063685.3145 - mse: 1063685.3145 - mae: 697.5835 - val_loss: 8285324.5000 - val_mse: 8285324.5000 - val_mae: 1957.8301\n",
      "Epoch 8/100\n",
      "30/30 [==============================] - 0s 10ms/step - loss: 1019093.2530 - mse: 1019093.2530 - mae: 677.0949 - val_loss: 7925132.0000 - val_mse: 7925132.0000 - val_mae: 1896.2150\n",
      "Epoch 9/100\n",
      "30/30 [==============================] - 0s 11ms/step - loss: 975085.0131 - mse: 975085.0131 - mae: 660.4157 - val_loss: 7577000.5000 - val_mse: 7577000.5000 - val_mae: 1839.7603\n",
      "Epoch 10/100\n",
      "30/30 [==============================] - 1s 20ms/step - loss: 940949.1895 - mse: 940949.1895 - mae: 644.7633 - val_loss: 7313232.5000 - val_mse: 7313232.5000 - val_mae: 1806.4203\n",
      "Epoch 11/100\n",
      "30/30 [==============================] - 0s 14ms/step - loss: 913226.8427 - mse: 913226.8427 - mae: 631.6706 - val_loss: 7069450.5000 - val_mse: 7069450.5000 - val_mae: 1785.8309\n",
      "Epoch 12/100\n",
      "30/30 [==============================] - 0s 11ms/step - loss: 892042.2077 - mse: 892042.2077 - mae: 621.5531 - val_loss: 6866320.0000 - val_mse: 6866320.0000 - val_mae: 1762.7086\n",
      "Epoch 13/100\n",
      "30/30 [==============================] - 1s 18ms/step - loss: 872766.3105 - mse: 872766.3226 - mae: 610.8853 - val_loss: 6647452.5000 - val_mse: 6647452.5000 - val_mae: 1740.1084\n",
      "Epoch 14/100\n",
      "30/30 [==============================] - 0s 12ms/step - loss: 855610.3065 - mse: 855610.3065 - mae: 602.2023 - val_loss: 6532620.0000 - val_mse: 6532620.0000 - val_mae: 1728.8412\n",
      "Epoch 15/100\n",
      "30/30 [==============================] - 0s 12ms/step - loss: 842516.8679 - mse: 842516.8649 - mae: 595.0413 - val_loss: 6360840.0000 - val_mse: 6360840.0000 - val_mae: 1706.0981\n",
      "Epoch 16/100\n",
      "30/30 [==============================] - 0s 14ms/step - loss: 830839.9214 - mse: 830839.9214 - mae: 590.5441 - val_loss: 6251074.0000 - val_mse: 6251074.0000 - val_mae: 1694.3156\n",
      "Epoch 17/100\n",
      "30/30 [==============================] - 0s 10ms/step - loss: 824019.0917 - mse: 824019.0917 - mae: 586.7730 - val_loss: 6117230.0000 - val_mse: 6117230.0000 - val_mae: 1680.6764\n",
      "Epoch 18/100\n",
      "30/30 [==============================] - 1s 17ms/step - loss: 813748.4042 - mse: 813748.4042 - mae: 581.9834 - val_loss: 6032209.5000 - val_mse: 6032209.5000 - val_mae: 1669.2811\n",
      "Epoch 19/100\n",
      "30/30 [==============================] - 1s 17ms/step - loss: 804813.2440 - mse: 804813.2208 - mae: 578.7640 - val_loss: 5959622.5000 - val_mse: 5959622.5000 - val_mae: 1660.2949\n",
      "Epoch 20/100\n",
      "30/30 [==============================] - 0s 10ms/step - loss: 801610.8196 - mse: 801610.8196 - mae: 577.0827 - val_loss: 5862907.5000 - val_mse: 5862907.5000 - val_mae: 1646.5054\n",
      "Epoch 21/100\n",
      "30/30 [==============================] - 0s 10ms/step - loss: 793694.9355 - mse: 793694.9345 - mae: 573.4435 - val_loss: 5775550.0000 - val_mse: 5775550.0000 - val_mae: 1635.4398\n",
      "Epoch 22/100\n",
      "30/30 [==============================] - 0s 12ms/step - loss: 787828.8871 - mse: 787828.8871 - mae: 572.1123 - val_loss: 5766802.0000 - val_mse: 5766802.0000 - val_mae: 1635.2819\n",
      "Epoch 23/100\n",
      "30/30 [==============================] - 0s 12ms/step - loss: 785047.4012 - mse: 785047.4012 - mae: 568.9885 - val_loss: 5687416.0000 - val_mse: 5687416.0000 - val_mae: 1622.9547\n",
      "Epoch 24/100\n",
      "30/30 [==============================] - 0s 9ms/step - loss: 779271.3992 - mse: 779271.3992 - mae: 567.0871 - val_loss: 5630819.5000 - val_mse: 5630819.5000 - val_mae: 1618.4857\n",
      "Epoch 25/100\n",
      "30/30 [==============================] - 0s 12ms/step - loss: 775622.5212 - mse: 775622.5212 - mae: 565.0777 - val_loss: 5617966.0000 - val_mse: 5617966.0000 - val_mae: 1615.9208\n",
      "Epoch 26/100\n",
      "30/30 [==============================] - 0s 16ms/step - loss: 772436.5948 - mse: 772436.5948 - mae: 563.0847 - val_loss: 5583258.5000 - val_mse: 5583258.5000 - val_mae: 1610.0244\n",
      "Epoch 27/100\n",
      "30/30 [==============================] - 0s 10ms/step - loss: 770340.0101 - mse: 770340.0101 - mae: 562.9311 - val_loss: 5465542.5000 - val_mse: 5465542.5000 - val_mae: 1597.1823\n",
      "Epoch 28/100\n",
      "30/30 [==============================] - 0s 7ms/step - loss: 765745.5030 - mse: 765745.5030 - mae: 562.8104 - val_loss: 5512934.0000 - val_mse: 5512934.0000 - val_mae: 1606.5273\n",
      "Epoch 29/100\n",
      "30/30 [==============================] - 0s 10ms/step - loss: 761239.8528 - mse: 761239.8528 - mae: 558.9969 - val_loss: 5459944.5000 - val_mse: 5459944.5000 - val_mae: 1593.1758\n",
      "Epoch 30/100\n",
      "30/30 [==============================] - 0s 11ms/step - loss: 761233.0988 - mse: 761233.0988 - mae: 560.1629 - val_loss: 5396430.5000 - val_mse: 5396430.5000 - val_mae: 1591.8387\n",
      "Epoch 31/100\n",
      "30/30 [==============================] - 0s 7ms/step - loss: 757103.8115 - mse: 757103.8155 - mae: 558.7272 - val_loss: 5431651.0000 - val_mse: 5431651.0000 - val_mae: 1594.2227\n",
      "Epoch 32/100\n",
      "30/30 [==============================] - ETA: 0s - loss: 739082.5219 - mse: 739082.5219 - mae: 551.599 - 0s 8ms/step - loss: 754864.5776 - mse: 754864.5776 - mae: 556.7331 - val_loss: 5421554.5000 - val_mse: 5421554.5000 - val_mae: 1587.9725\n",
      "Epoch 33/100\n",
      "30/30 [==============================] - 0s 7ms/step - loss: 751698.6683 - mse: 751698.6683 - mae: 556.1704 - val_loss: 5392588.5000 - val_mse: 5392588.5000 - val_mae: 1588.7485\n",
      "Epoch 34/100\n",
      "30/30 [==============================] - 0s 10ms/step - loss: 749846.8649 - mse: 749846.8649 - mae: 556.3573 - val_loss: 5405598.5000 - val_mse: 5405598.5000 - val_mae: 1590.3007\n",
      "Epoch 35/100\n",
      "30/30 [==============================] - 0s 10ms/step - loss: 746187.0343 - mse: 746187.0343 - mae: 554.9219 - val_loss: 5401794.5000 - val_mse: 5401794.5000 - val_mae: 1590.5840\n",
      "Epoch 36/100\n",
      "30/30 [==============================] - 0s 6ms/step - loss: 743941.4587 - mse: 743941.4597 - mae: 553.9171 - val_loss: 5381206.0000 - val_mse: 5381206.0000 - val_mae: 1589.2065\n",
      "Epoch 37/100\n",
      "30/30 [==============================] - 0s 7ms/step - loss: 741909.2631 - mse: 741909.2631 - mae: 552.8621 - val_loss: 5395516.0000 - val_mse: 5395516.0000 - val_mae: 1588.1307\n",
      "Epoch 38/100\n",
      "30/30 [==============================] - 0s 7ms/step - loss: 741557.4194 - mse: 741557.4194 - mae: 552.2932 - val_loss: 5389984.5000 - val_mse: 5389984.5000 - val_mae: 1585.9644\n",
      "Epoch 39/100\n",
      "30/30 [==============================] - 0s 8ms/step - loss: 736718.2127 - mse: 736718.1804 - mae: 550.5078 - val_loss: 5428207.5000 - val_mse: 5428207.5000 - val_mae: 1588.7803\n",
      "Epoch 40/100\n",
      "30/30 [==============================] - 0s 12ms/step - loss: 735445.8327 - mse: 735445.8327 - mae: 550.7120 - val_loss: 5418051.5000 - val_mse: 5418051.5000 - val_mae: 1588.7750\n",
      "Epoch 41/100\n",
      "30/30 [==============================] - 0s 7ms/step - loss: 734367.0000 - mse: 734367.0000 - mae: 550.2306 - val_loss: 5381783.5000 - val_mse: 5381783.5000 - val_mae: 1587.2142\n",
      "Epoch 42/100\n",
      "30/30 [==============================] - 0s 6ms/step - loss: 731386.3448 - mse: 731386.3609 - mae: 549.3379 - val_loss: 5428201.0000 - val_mse: 5428201.0000 - val_mae: 1588.2915\n",
      "Epoch 43/100\n"
     ]
    },
    {
     "name": "stdout",
     "output_type": "stream",
     "text": [
      "30/30 [==============================] - 0s 10ms/step - loss: 730849.8952 - mse: 730849.8952 - mae: 549.9803 - val_loss: 5391230.5000 - val_mse: 5391230.5000 - val_mae: 1586.3779\n",
      "Epoch 44/100\n",
      "30/30 [==============================] - 0s 8ms/step - loss: 728325.3750 - mse: 728325.3327 - mae: 547.8550 - val_loss: 5387735.5000 - val_mse: 5387735.5000 - val_mae: 1584.6788\n",
      "Epoch 45/100\n",
      "30/30 [==============================] - 0s 10ms/step - loss: 726849.7238 - mse: 726849.7560 - mae: 548.7292 - val_loss: 5401458.5000 - val_mse: 5401458.5000 - val_mae: 1590.3115\n",
      "Epoch 46/100\n",
      "30/30 [==============================] - 0s 6ms/step - loss: 723075.4970 - mse: 723075.4970 - mae: 545.9260 - val_loss: 5476203.5000 - val_mse: 5476203.5000 - val_mae: 1587.0660\n"
     ]
    }
   ],
   "source": [
    "##Step 3: Fit Model\n",
    "model=model_rnn(look_back)\n",
    "history=model.fit(trainX,trainY, epochs=100, batch_size=30, verbose=1, validation_data=(testX,testY),callbacks=[EarlyStopping(monitor='val_loss', patience=10)],shuffle=False)"
   ]
  },
  {
   "cell_type": "code",
   "execution_count": 9,
   "metadata": {},
   "outputs": [
    {
     "name": "stdout",
     "output_type": "stream",
     "text": [
      "Model: \"sequential\"\n",
      "_________________________________________________________________\n",
      "Layer (type)                 Output Shape              Param #   \n",
      "=================================================================\n",
      "simple_rnn (SimpleRNN)       (None, 32)                2016      \n",
      "_________________________________________________________________\n",
      "dense (Dense)                (None, 8)                 264       \n",
      "_________________________________________________________________\n",
      "dense_1 (Dense)              (None, 1)                 9         \n",
      "=================================================================\n",
      "Total params: 2,289\n",
      "Trainable params: 2,289\n",
      "Non-trainable params: 0\n",
      "_________________________________________________________________\n"
     ]
    }
   ],
   "source": [
    "model.summary()"
   ]
  },
  {
   "cell_type": "code",
   "execution_count": 10,
   "metadata": {},
   "outputs": [],
   "source": [
    "test_pred = model.predict(testX)"
   ]
  },
  {
   "cell_type": "code",
   "execution_count": 11,
   "metadata": {},
   "outputs": [
    {
     "data": {
      "text/plain": [
       "96"
      ]
     },
     "execution_count": 11,
     "metadata": {},
     "output_type": "execute_result"
    }
   ],
   "source": [
    "len(test_pred)"
   ]
  },
  {
   "cell_type": "code",
   "execution_count": 12,
   "metadata": {},
   "outputs": [],
   "source": [
    "rnnfore = pd.DataFrame(test_pred)\n",
    "rnnfore.to_csv(r\"C:\\Users\\cash\\Desktop\\tafa\\Forecasting and Predicriom Notebooks&Datasets RJ\\exported_RNNforecasts_dataframe.csv\",index = False,header=True)"
   ]
  },
  {
   "cell_type": "code",
   "execution_count": 13,
   "metadata": {},
   "outputs": [
    {
     "data": {
      "text/html": [
       "<div>\n",
       "<style scoped>\n",
       "    .dataframe tbody tr th:only-of-type {\n",
       "        vertical-align: middle;\n",
       "    }\n",
       "\n",
       "    .dataframe tbody tr th {\n",
       "        vertical-align: top;\n",
       "    }\n",
       "\n",
       "    .dataframe thead th {\n",
       "        text-align: right;\n",
       "    }\n",
       "</style>\n",
       "<table border=\"1\" class=\"dataframe\">\n",
       "  <thead>\n",
       "    <tr style=\"text-align: right;\">\n",
       "      <th></th>\n",
       "      <th>Actual Sales</th>\n",
       "      <th>RNN</th>\n",
       "    </tr>\n",
       "    <tr>\n",
       "      <th>Date</th>\n",
       "      <th></th>\n",
       "      <th></th>\n",
       "    </tr>\n",
       "  </thead>\n",
       "  <tbody>\n",
       "    <tr>\n",
       "      <th>27-Sep-20</th>\n",
       "      <td>8414.80</td>\n",
       "      <td>5999.832520</td>\n",
       "    </tr>\n",
       "    <tr>\n",
       "      <th>28-Sep-20</th>\n",
       "      <td>5923.40</td>\n",
       "      <td>6698.330566</td>\n",
       "    </tr>\n",
       "    <tr>\n",
       "      <th>29-Sep-20</th>\n",
       "      <td>4592.55</td>\n",
       "      <td>11534.750000</td>\n",
       "    </tr>\n",
       "    <tr>\n",
       "      <th>30-Sep-20</th>\n",
       "      <td>6561.50</td>\n",
       "      <td>5447.466797</td>\n",
       "    </tr>\n",
       "    <tr>\n",
       "      <th>1-Oct-20</th>\n",
       "      <td>4599.50</td>\n",
       "      <td>9496.896484</td>\n",
       "    </tr>\n",
       "    <tr>\n",
       "      <th>...</th>\n",
       "      <td>...</td>\n",
       "      <td>...</td>\n",
       "    </tr>\n",
       "    <tr>\n",
       "      <th>27-Dec-20</th>\n",
       "      <td>3116.25</td>\n",
       "      <td>5412.407715</td>\n",
       "    </tr>\n",
       "    <tr>\n",
       "      <th>28-Dec-20</th>\n",
       "      <td>7736.05</td>\n",
       "      <td>5025.586426</td>\n",
       "    </tr>\n",
       "    <tr>\n",
       "      <th>29-Dec-20</th>\n",
       "      <td>6981.61</td>\n",
       "      <td>5174.637207</td>\n",
       "    </tr>\n",
       "    <tr>\n",
       "      <th>30-Dec-20</th>\n",
       "      <td>3702.45</td>\n",
       "      <td>5149.369629</td>\n",
       "    </tr>\n",
       "    <tr>\n",
       "      <th>31-Dec-20</th>\n",
       "      <td>5132.95</td>\n",
       "      <td>5200.251465</td>\n",
       "    </tr>\n",
       "  </tbody>\n",
       "</table>\n",
       "<p>96 rows × 2 columns</p>\n",
       "</div>"
      ],
      "text/plain": [
       "           Actual Sales           RNN\n",
       "Date                                 \n",
       "27-Sep-20       8414.80   5999.832520\n",
       "28-Sep-20       5923.40   6698.330566\n",
       "29-Sep-20       4592.55  11534.750000\n",
       "30-Sep-20       6561.50   5447.466797\n",
       "1-Oct-20        4599.50   9496.896484\n",
       "...                 ...           ...\n",
       "27-Dec-20       3116.25   5412.407715\n",
       "28-Dec-20       7736.05   5025.586426\n",
       "29-Dec-20       6981.61   5174.637207\n",
       "30-Dec-20       3702.45   5149.369629\n",
       "31-Dec-20       5132.95   5200.251465\n",
       "\n",
       "[96 rows x 2 columns]"
      ]
     },
     "execution_count": 13,
     "metadata": {},
     "output_type": "execute_result"
    }
   ],
   "source": [
    "actual_fore=test_set.rename(columns={\"Sales\":\"Actual Sales\"})\n",
    "actual_fore[\"RNN\"]=rnnfore.values\n",
    "RNN=actual_fore\n",
    "RNN"
   ]
  },
  {
   "cell_type": "code",
   "execution_count": 14,
   "metadata": {},
   "outputs": [],
   "source": [
    "def model_loss(history):\n",
    "    plt.figure(figsize=(8,4))\n",
    "    plt.plot(history.history['loss'], label='Train Loss')\n",
    "    plt.plot(history.history['val_loss'], label='Test Loss')\n",
    "    plt.title('RNN model loss')\n",
    "    plt.ylabel('loss')\n",
    "    plt.xlabel('epochs')\n",
    "    plt.legend(loc='upper right')\n",
    "    plt.show();"
   ]
  },
  {
   "cell_type": "code",
   "execution_count": 15,
   "metadata": {},
   "outputs": [
    {
     "name": "stdout",
     "output_type": "stream",
     "text": [
      "Train Root Mean Squared Error(RMSE): 1062.36; Train Mean Absolute Error(MAE) : 680.74 \n",
      "Test Root Mean Squared Error(RMSE): 2340.13; Test Mean Absolute Error(MAE) : 1587.07 \n"
     ]
    },
    {
     "data": {
      "image/png": "[encoded data removed]",
      "text/plain": [
       "<Figure size 576x288 with 1 Axes>"
      ]
     },
     "metadata": {
      "needs_background": "light"
     },
     "output_type": "display_data"
    }
   ],
   "source": [
    "from sklearn.metrics import mean_squared_error,mean_absolute_error\n",
    "#Step 4: Model Evaluation\n",
    "#Print out error metrics and generate model loss plot.\n",
    "train_predict = model.predict(trainX)\n",
    "test_predict = model.predict(testX)\n",
    "print('Train Root Mean Squared Error(RMSE): %.2f; Train Mean Absolute Error(MAE) : %.2f '\n",
    "      % (np.sqrt(mean_squared_error(trainY, train_predict[:,0])), mean_absolute_error(trainY, train_predict[:,0])))\n",
    "print('Test Root Mean Squared Error(RMSE): %.2f; Test Mean Absolute Error(MAE) : %.2f ' \n",
    "      % (np.sqrt(mean_squared_error(testY, test_predict[:,0])), mean_absolute_error(testY, test_predict[:,0])))\n",
    "model_loss(history)"
   ]
  },
  {
   "cell_type": "code",
   "execution_count": 16,
   "metadata": {},
   "outputs": [],
   "source": [
    "#Step 5. Visualizing Prediction\n",
    "def prediction_plot(testY, test_predict,look_back):\n",
    "    len_prediction=[x for x in range(len(testY)-look_back)]\n",
    "    plt.plot(len_prediction, testY[:1], marker='.', label=\"actual\")\n",
    "    plt.plot(len_prediction, test_predict[1:], 'r', label=\"prediction\")\n",
    "    plt.tight_layout()\n",
    "    sns.despine(top=True)\n",
    "    plt.subplots_adjust(left=0.07)\n",
    "    plt.ylabel('Ads Daily Spend', size=15)\n",
    "    plt.xlabel('Time step', size=15)\n",
    "    plt.legend(fontsize=15)\n",
    "    plt.show()"
   ]
  },
  {
   "cell_type": "code",
   "execution_count": 17,
   "metadata": {},
   "outputs": [
    {
     "name": "stdout",
     "output_type": "stream",
     "text": [
      "900\n",
      "96\n"
     ]
    }
   ],
   "source": [
    "print(len(train_predict))\n",
    "print(len(test_predict))\n",
    "#test_predict"
   ]
  },
  {
   "cell_type": "code",
   "execution_count": 18,
   "metadata": {},
   "outputs": [
    {
     "data": {
      "image/png": "[encoded data removed]",
      "text/plain": [
       "<Figure size 1080x432 with 1 Axes>"
      ]
     },
     "metadata": {
      "needs_background": "light"
     },
     "output_type": "display_data"
    }
   ],
   "source": [
    "RNN['Actual Sales'].plot(figsize=(15,6),label=\"Actual Sales\")\n",
    "RNN['RNN'].plot(figsize=(15,6), label = \"Recurrent Neural Network (RNN)\")\n",
    "pyplot.xlabel(\"Date\")\n",
    "pyplot.ylabel(\"Sales\")\n",
    "pyplot.title(\"Actual Sales VS RNN Forecast\")\n",
    "pyplot.legend()\n",
    "pyplot.savefig(\"series plot.png\")\n",
    "pyplot.show()"
   ]
  },
  {
   "cell_type": "code",
   "execution_count": 19,
   "metadata": {},
   "outputs": [],
   "source": [
    "y_true1 = RNN[\"Actual Sales\"].dropna()\n",
    "y_pred1 = RNN[\"RNN\"].dropna()"
   ]
  },
  {
   "cell_type": "code",
   "execution_count": 20,
   "metadata": {},
   "outputs": [
    {
     "name": "stdout",
     "output_type": "stream",
     "text": [
      "Evaluation metric results:-\n",
      "MSE is : 23520316.92431921\n",
      "MAE is : 3539.2968093872078\n",
      "RMSE is : 4849.774935429397\n",
      "MAPE is : 54.64100593317954\n",
      "R2 is : -0.5793715390255414\n",
      "\n",
      "None\n"
     ]
    }
   ],
   "source": [
    "from sklearn import metrics\n",
    "def timeseries_evaluation_metrics_func(y_true, y_pred):\n",
    "    \n",
    "    def mean_absolute_percentage_error(y_true, y_pred): \n",
    "        y_true, y_pred = np.array(y_true), np.array(y_pred)\n",
    "        return np.mean(np.abs((y_true - y_pred) / y_true)) * 100\n",
    "    print('Evaluation metric results:-')\n",
    "    print(f'MSE is : {metrics.mean_squared_error(y_true, y_pred)}')\n",
    "    print(f'MAE is : {metrics.mean_absolute_error(y_true, y_pred)}')\n",
    "    print(f'RMSE is : {np.sqrt(metrics.mean_squared_error(y_true, y_pred))}')\n",
    "    print(f'MAPE is : {mean_absolute_percentage_error(y_true, y_pred)}')\n",
    "    print(f'R2 is : {metrics.r2_score(y_true, y_pred)}',end='\\n\\n')\n",
    "print(timeseries_evaluation_metrics_func(y_true1, y_pred1))"
   ]
  },
  {
   "cell_type": "code",
   "execution_count": null,
   "metadata": {},
   "outputs": [],
   "source": []
  },
  {
   "cell_type": "code",
   "execution_count": null,
   "metadata": {},
   "outputs": [],
   "source": []
  },
  {
   "cell_type": "code",
   "execution_count": null,
   "metadata": {},
   "outputs": [],
   "source": []
  },
  {
   "cell_type": "code",
   "execution_count": null,
   "metadata": {},
   "outputs": [],
   "source": []
  },
  {
   "cell_type": "code",
   "execution_count": null,
   "metadata": {},
   "outputs": [],
   "source": []
  },
  {
   "cell_type": "code",
   "execution_count": null,
   "metadata": {},
   "outputs": [],
   "source": []
  },
  {
   "cell_type": "code",
   "execution_count": null,
   "metadata": {},
   "outputs": [],
   "source": []
  },
  {
   "cell_type": "code",
   "execution_count": null,
   "metadata": {},
   "outputs": [],
   "source": []
  }
 ],
 "metadata": {
  "kernelspec": {
   "display_name": "Python 3",
   "language": "python",
   "name": "python3"
  },
  "language_info": {
   "codemirror_mode": {
    "name": "ipython",
    "version": 3
   },
   "file_extension": ".py",
   "mimetype": "text/x-python",
   "name": "python",
   "nbconvert_exporter": "python",
   "pygments_lexer": "ipython3",
   "version": "3.8.5"
  }
 },
 "nbformat": 4,
 "nbformat_minor": 4
}
