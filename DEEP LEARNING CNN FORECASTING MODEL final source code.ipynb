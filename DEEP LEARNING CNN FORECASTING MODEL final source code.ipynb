{
 "cells": [
  {
   "cell_type": "code",
   "execution_count": 1,
   "metadata": {},
   "outputs": [],
   "source": [
    "import pandas as pd\n",
    "import numpy as np\n",
    "import tensorflow as tf\n",
    "from sklearn import preprocessing\n",
    "import matplotlib.pyplot as plt\n",
    "tf.random.set_seed(123)\n",
    "np.random.seed(123)\n",
    "from keras.callbacks import EarlyStopping"
   ]
  },
  {
   "cell_type": "code",
   "execution_count": 2,
   "metadata": {},
   "outputs": [],
   "source": [
    "data = pd.read_csv(\"timeseries_salesdata.csv\")\n",
    "data.set_index(\"Date\", inplace =True)\n",
    "valid = pd.read_csv(r'dec.csv')"
   ]
  },
  {
   "cell_type": "code",
   "execution_count": 3,
   "metadata": {},
   "outputs": [],
   "source": [
    "validate = data['Sales'].tail(96)\n",
    "validate = validate.values\n",
    "test_set = pd.DataFrame(data['Sales'].tail(93))"
   ]
  },
  {
   "cell_type": "code",
   "execution_count": 4,
   "metadata": {},
   "outputs": [],
   "source": [
    "train = data[\"Sales\"].iloc[:-96]\n",
    "uni_data= train"
   ]
  },
  {
   "cell_type": "code",
   "execution_count": 5,
   "metadata": {},
   "outputs": [
    {
     "data": {
      "text/plain": [
       "900"
      ]
     },
     "execution_count": 5,
     "metadata": {},
     "output_type": "execute_result"
    }
   ],
   "source": [
    "uni_data = uni_data.values\n",
    "len(uni_data)"
   ]
  },
  {
   "cell_type": "code",
   "execution_count": 6,
   "metadata": {},
   "outputs": [],
   "source": [
    "from numpy import array\n",
    "from keras.models import Sequential\n",
    "from keras.layers import LSTM\n",
    "from keras.layers import Dense"
   ]
  },
  {
   "cell_type": "code",
   "execution_count": 7,
   "metadata": {},
   "outputs": [],
   "source": [
    "#CNN Model\n",
    "\n",
    "# univariate cnn example\n",
    "from numpy import array\n",
    "from keras.models import Sequential\n",
    "from keras.layers import Dense\n",
    "from keras.layers import Flatten\n",
    "from keras.layers.convolutional import Conv1D\n",
    "from keras.layers.convolutional import MaxPooling1D\n",
    "\n",
    "# split a univariate sequence into samples\n",
    "def split_sequence(sequence, n_steps):\n",
    "    X, y = list(), list()\n",
    "    for i in range(len(sequence)):\n",
    "        # find the end of this pattern\n",
    "        end_ix = i + n_steps\n",
    "        # check if we are beyond the sequence\n",
    "        if end_ix > len(sequence)-1:\n",
    "            break\n",
    "        # gather input and output parts of the pattern\n",
    "        seq_x, seq_y = sequence[i:end_ix], sequence[end_ix]\n",
    "        X.append(seq_x)\n",
    "        y.append(seq_y)\n",
    "    return array(X), array(y)\n",
    "# define input sequence\n",
    "\n",
    "\n",
    "\n",
    "# define input sequence\n",
    "raw_seq = uni_data\n",
    "# choose a number of time steps\n",
    "n_steps = 3\n",
    "# split into samples\n",
    "X, y = split_sequence(raw_seq, n_steps)\n",
    "# reshape from [samples, timesteps] into [samples, timesteps, features]\n",
    "n_features = 1\n",
    "X = X.reshape((X.shape[0], X.shape[1], n_features))\n"
   ]
  },
  {
   "cell_type": "code",
   "execution_count": 8,
   "metadata": {},
   "outputs": [],
   "source": [
    "def split_sequence2(sequence2, n_steps2):\n",
    "    X2, y2 = list(), list()\n",
    "    for i in range(len(sequence2)):\n",
    "        # find the end of this pattern\n",
    "        end_ix2 = i + n_steps2\n",
    "        # check if we are beyond the sequence\n",
    "        if end_ix2 > len(sequence2)-1:\n",
    "            break\n",
    "        # gather input and output parts of the pattern\n",
    "        seq_x2, seq_y2 = sequence2[i:end_ix2], sequence2[end_ix2]\n",
    "        X2.append(seq_x2)\n",
    "        y2.append(seq_y2)\n",
    "    return array(X2), array(y2)\n",
    "\n",
    "# define input sequence\n",
    "raw_seq2 = validate\n",
    "# choose a number of time steps\n",
    "n_steps2 = 3\n",
    "# split into samples\n",
    "X2, y2 = split_sequence(raw_seq2, n_steps2)\n",
    "# reshape from [samples, timesteps] into [samples, timesteps, features]\n",
    "n_features2 = 1\n",
    "X2 = X2.reshape((X2.shape[0], X2.shape[1], n_features2))\n"
   ]
  },
  {
   "cell_type": "code",
   "execution_count": 9,
   "metadata": {},
   "outputs": [
    {
     "name": "stdout",
     "output_type": "stream",
     "text": [
      "(897, 3, 1)\n",
      "(897,)\n",
      "(93, 3, 1)\n",
      "(93,)\n"
     ]
    }
   ],
   "source": [
    "print(X.shape)\n",
    "print(y.shape)\n",
    "print(X2.shape)\n",
    "print(y2.shape)"
   ]
  },
  {
   "cell_type": "code",
   "execution_count": 10,
   "metadata": {},
   "outputs": [],
   "source": [
    "# define model\n",
    "model = Sequential()\n",
    "model.add(Conv1D(filters=64, kernel_size=2, activation='relu', input_shape=(n_steps, n_features)))\n",
    "model.add(MaxPooling1D(pool_size=2))\n",
    "model.add(Flatten())\n",
    "model.add(Dense(50, activation='relu'))\n",
    "model.add(Dense(1))\n",
    "model.compile(optimizer='adam', loss='mse')\n"
   ]
  },
  {
   "cell_type": "code",
   "execution_count": 11,
   "metadata": {},
   "outputs": [
    {
     "name": "stdout",
     "output_type": "stream",
     "text": [
      "Epoch 1/100\n",
      "30/30 [==============================] - 45s 59ms/step - loss: 11851774.7742 - val_loss: 22438186.0000\n",
      "Epoch 2/100\n",
      "30/30 [==============================] - 0s 11ms/step - loss: 3592129.2984 - val_loss: 22635028.0000\n",
      "Epoch 3/100\n",
      "30/30 [==============================] - 0s 9ms/step - loss: 3307726.0323 - val_loss: 22317066.0000\n",
      "Epoch 4/100\n",
      "30/30 [==============================] - 0s 9ms/step - loss: 3189799.8347 - val_loss: 21795546.0000\n",
      "Epoch 5/100\n",
      "30/30 [==============================] - 0s 16ms/step - loss: 3060408.1089 - val_loss: 21438446.0000\n",
      "Epoch 6/100\n",
      "30/30 [==============================] - 0s 11ms/step - loss: 2953910.3589 - val_loss: 21141326.0000\n",
      "Epoch 7/100\n",
      "30/30 [==============================] - 0s 9ms/step - loss: 2860399.5645 - val_loss: 20797602.0000\n",
      "Epoch 8/100\n",
      "30/30 [==============================] - 0s 10ms/step - loss: 2785650.0363 - val_loss: 20524912.0000\n",
      "Epoch 9/100\n",
      "30/30 [==============================] - 1s 18ms/step - loss: 2735431.5766 - val_loss: 20373944.0000\n",
      "Epoch 10/100\n",
      "30/30 [==============================] - 0s 12ms/step - loss: 2706583.8548 - val_loss: 20312016.0000\n",
      "Epoch 11/100\n",
      "30/30 [==============================] - 0s 8ms/step - loss: 2694016.7016 - val_loss: 20335618.0000\n",
      "Epoch 12/100\n",
      "30/30 [==============================] - 0s 14ms/step - loss: 2680634.7419 - val_loss: 20373174.0000\n",
      "Epoch 13/100\n",
      "30/30 [==============================] - 0s 12ms/step - loss: 2668514.9315 - val_loss: 20437688.0000\n",
      "Epoch 14/100\n",
      "30/30 [==============================] - 0s 8ms/step - loss: 2656916.8105 - val_loss: 20499860.0000\n",
      "Epoch 15/100\n",
      "30/30 [==============================] - 0s 7ms/step - loss: 2647641.5242 - val_loss: 20547590.0000\n",
      "Epoch 16/100\n",
      "30/30 [==============================] - 0s 8ms/step - loss: 2640529.0403 - val_loss: 20607490.0000\n",
      "Epoch 17/100\n",
      "30/30 [==============================] - 0s 8ms/step - loss: 2633938.5484 - val_loss: 20651760.0000\n",
      "Epoch 18/100\n",
      "30/30 [==============================] - 0s 7ms/step - loss: 2630744.6411 - val_loss: 20699358.0000\n",
      "Epoch 19/100\n",
      "30/30 [==============================] - 0s 6ms/step - loss: 2632411.3306 - val_loss: 20746798.0000\n",
      "Epoch 20/100\n",
      "30/30 [==============================] - 0s 7ms/step - loss: 2633760.6210 - val_loss: 20782670.0000\n"
     ]
    }
   ],
   "source": [
    "# fit model\n",
    "history=model.fit(X, y, epochs=100,  batch_size=30, verbose=1, validation_data=(X2,y2),callbacks=[EarlyStopping(monitor='val_loss', patience=10)],shuffle=False)\n"
   ]
  },
  {
   "cell_type": "code",
   "execution_count": 12,
   "metadata": {},
   "outputs": [],
   "source": [
    "# demonstrate prediction\n",
    "#x_input = array([70, 80, 90])\n",
    "#x_input = x_input.reshape((1, n_steps, n_features))\n",
    "#ypred = model.predict(x_input, verbose=0)\n",
    "#print(yhat)"
   ]
  },
  {
   "cell_type": "code",
   "execution_count": 13,
   "metadata": {},
   "outputs": [
    {
     "name": "stdout",
     "output_type": "stream",
     "text": [
      "Model: \"sequential\"\n",
      "_________________________________________________________________\n",
      "Layer (type)                 Output Shape              Param #   \n",
      "=================================================================\n",
      "conv1d (Conv1D)              (None, 2, 64)             192       \n",
      "_________________________________________________________________\n",
      "max_pooling1d (MaxPooling1D) (None, 1, 64)             0         \n",
      "_________________________________________________________________\n",
      "flatten (Flatten)            (None, 64)                0         \n",
      "_________________________________________________________________\n",
      "dense (Dense)                (None, 50)                3250      \n",
      "_________________________________________________________________\n",
      "dense_1 (Dense)              (None, 1)                 51        \n",
      "=================================================================\n",
      "Total params: 3,493\n",
      "Trainable params: 3,493\n",
      "Non-trainable params: 0\n",
      "_________________________________________________________________\n"
     ]
    }
   ],
   "source": [
    "model.summary()"
   ]
  },
  {
   "cell_type": "code",
   "execution_count": 14,
   "metadata": {},
   "outputs": [],
   "source": [
    "def model_loss(history):\n",
    "    plt.figure(figsize=(8,4))\n",
    "    plt.plot(history.history['loss'], label='Train Loss')\n",
    "    plt.plot(history.history['val_loss'], label='Test Loss')\n",
    "    plt.title('CNN model loss')\n",
    "    plt.ylabel('loss')\n",
    "    plt.xlabel('epochs')\n",
    "    plt.legend(loc='upper right')\n",
    "    plt.show();"
   ]
  },
  {
   "cell_type": "code",
   "execution_count": 15,
   "metadata": {},
   "outputs": [
    {
     "data": {
      "image/png": "[encoded data removed]",
      "text/plain": [
       "<Figure size 576x288 with 1 Axes>"
      ]
     },
     "metadata": {
      "needs_background": "light"
     },
     "output_type": "display_data"
    }
   ],
   "source": [
    "train_score = model.evaluate(X, y, verbose=0)\n",
    "#print('Train Root Mean Squared Error(RMSE): %.2f; Train Mean Absolute Error(MAE) : %.2f ' \n",
    "#% (np.sqrt(train_score[1]), train_score[2]))\n",
    "#test_score = model.evaluate(X_test, test_set, verbose=0)\n",
    "#print('Test Root Mean Squared Error(RMSE): %.2f; Test Mean Absolute Error(MAE) : %.2f ' \n",
    "#% (np.sqrt(test_score[1]), test_score[2]))\n",
    "model_loss(history)"
   ]
  },
  {
   "cell_type": "code",
   "execution_count": 16,
   "metadata": {},
   "outputs": [
    {
     "data": {
      "text/plain": [
       "93"
      ]
     },
     "execution_count": 16,
     "metadata": {},
     "output_type": "execute_result"
    }
   ],
   "source": [
    "len(model.predict(X2))"
   ]
  },
  {
   "cell_type": "code",
   "execution_count": 17,
   "metadata": {},
   "outputs": [],
   "source": [
    "pred = model.predict(X2)\n",
    "len(pred)\n",
    "forecnn= pd.DataFrame(pred)\n",
    "forecnn.to_csv(r\"C:\\Users\\cash\\Desktop\\tafa\\Forecasting and Predicriom Notebooks&Datasets RJ\\exported_CNNforecasts_dataframe.csv\",index = False,header=True)"
   ]
  },
  {
   "cell_type": "code",
   "execution_count": 18,
   "metadata": {},
   "outputs": [
    {
     "data": {
      "text/html": [
       "<div>\n",
       "<style scoped>\n",
       "    .dataframe tbody tr th:only-of-type {\n",
       "        vertical-align: middle;\n",
       "    }\n",
       "\n",
       "    .dataframe tbody tr th {\n",
       "        vertical-align: top;\n",
       "    }\n",
       "\n",
       "    .dataframe thead th {\n",
       "        text-align: right;\n",
       "    }\n",
       "</style>\n",
       "<table border=\"1\" class=\"dataframe\">\n",
       "  <thead>\n",
       "    <tr style=\"text-align: right;\">\n",
       "      <th></th>\n",
       "      <th>Actual Sales</th>\n",
       "      <th>cnn</th>\n",
       "    </tr>\n",
       "    <tr>\n",
       "      <th>Date</th>\n",
       "      <th></th>\n",
       "      <th></th>\n",
       "    </tr>\n",
       "  </thead>\n",
       "  <tbody>\n",
       "    <tr>\n",
       "      <th>30-Sep-20</th>\n",
       "      <td>6561.50</td>\n",
       "      <td>5201.246582</td>\n",
       "    </tr>\n",
       "    <tr>\n",
       "      <th>1-Oct-20</th>\n",
       "      <td>4599.50</td>\n",
       "      <td>4452.854980</td>\n",
       "    </tr>\n",
       "    <tr>\n",
       "      <th>2-Oct-20</th>\n",
       "      <td>4983.00</td>\n",
       "      <td>4216.494141</td>\n",
       "    </tr>\n",
       "    <tr>\n",
       "      <th>3-Oct-20</th>\n",
       "      <td>16826.00</td>\n",
       "      <td>4079.109863</td>\n",
       "    </tr>\n",
       "    <tr>\n",
       "      <th>4-Oct-20</th>\n",
       "      <td>28484.00</td>\n",
       "      <td>8845.626953</td>\n",
       "    </tr>\n",
       "    <tr>\n",
       "      <th>...</th>\n",
       "      <td>...</td>\n",
       "      <td>...</td>\n",
       "    </tr>\n",
       "    <tr>\n",
       "      <th>27-Dec-20</th>\n",
       "      <td>3116.25</td>\n",
       "      <td>2538.829346</td>\n",
       "    </tr>\n",
       "    <tr>\n",
       "      <th>28-Dec-20</th>\n",
       "      <td>7736.05</td>\n",
       "      <td>2306.722168</td>\n",
       "    </tr>\n",
       "    <tr>\n",
       "      <th>29-Dec-20</th>\n",
       "      <td>6981.61</td>\n",
       "      <td>4759.245117</td>\n",
       "    </tr>\n",
       "    <tr>\n",
       "      <th>30-Dec-20</th>\n",
       "      <td>3702.45</td>\n",
       "      <td>5138.025879</td>\n",
       "    </tr>\n",
       "    <tr>\n",
       "      <th>31-Dec-20</th>\n",
       "      <td>5132.95</td>\n",
       "      <td>5571.228027</td>\n",
       "    </tr>\n",
       "  </tbody>\n",
       "</table>\n",
       "<p>93 rows × 2 columns</p>\n",
       "</div>"
      ],
      "text/plain": [
       "           Actual Sales          cnn\n",
       "Date                                \n",
       "30-Sep-20       6561.50  5201.246582\n",
       "1-Oct-20        4599.50  4452.854980\n",
       "2-Oct-20        4983.00  4216.494141\n",
       "3-Oct-20       16826.00  4079.109863\n",
       "4-Oct-20       28484.00  8845.626953\n",
       "...                 ...          ...\n",
       "27-Dec-20       3116.25  2538.829346\n",
       "28-Dec-20       7736.05  2306.722168\n",
       "29-Dec-20       6981.61  4759.245117\n",
       "30-Dec-20       3702.45  5138.025879\n",
       "31-Dec-20       5132.95  5571.228027\n",
       "\n",
       "[93 rows x 2 columns]"
      ]
     },
     "execution_count": 18,
     "metadata": {},
     "output_type": "execute_result"
    }
   ],
   "source": [
    "actual_fore=test_set.rename(columns={\"Sales\":\"Actual Sales\"})\n",
    "actual_fore[\"cnn\"]=forecnn.values\n",
    "cnn=actual_fore\n",
    "cnn"
   ]
  },
  {
   "cell_type": "code",
   "execution_count": 19,
   "metadata": {},
   "outputs": [
    {
     "data": {
      "image/png": "[encoded data removed]",
      "text/plain": [
       "<Figure size 1080x432 with 1 Axes>"
      ]
     },
     "metadata": {
      "needs_background": "light"
     },
     "output_type": "display_data"
    }
   ],
   "source": [
    "from matplotlib import pyplot\n",
    "cnn['Actual Sales'].plot(figsize=(15,6),label=\"Actual Sales\")\n",
    "cnn['cnn'].plot(figsize=(15,6), label = \"CNN\")\n",
    "pyplot.xlabel(\"Date\")\n",
    "pyplot.ylabel(\"Sales\")\n",
    "pyplot.title(\"Actual Sales VS Convolutional Nueral Network (CNN) Forecast\")\n",
    "pyplot.legend()\n",
    "pyplot.savefig(\"series plot.png\")\n",
    "pyplot.show()"
   ]
  },
  {
   "cell_type": "code",
   "execution_count": 20,
   "metadata": {},
   "outputs": [],
   "source": [
    "y_true1 = cnn[\"Actual Sales\"].dropna()\n",
    "y_pred1 = cnn[\"cnn\"].dropna()"
   ]
  },
  {
   "cell_type": "code",
   "execution_count": 21,
   "metadata": {},
   "outputs": [
    {
     "name": "stdout",
     "output_type": "stream",
     "text": [
      "Evaluation metric results:-\n",
      "MSE is : 20782671.207540046\n",
      "MAE is : 3215.0403926726303\n",
      "RMSE is : 4558.801509995807\n",
      "MAPE is : 44.482970009016505\n",
      "R2 is : -0.3640285720190477\n",
      "\n",
      "None\n"
     ]
    }
   ],
   "source": [
    "from sklearn import metrics\n",
    "def timeseries_evaluation_metrics_func(y_true, y_pred):\n",
    "    \n",
    "    def mean_absolute_percentage_error(y_true, y_pred): \n",
    "        y_true, y_pred = np.array(y_true), np.array(y_pred)\n",
    "        return np.mean(np.abs((y_true - y_pred) / y_true)) * 100\n",
    "    print('Evaluation metric results:-')\n",
    "    print(f'MSE is : {metrics.mean_squared_error(y_true, y_pred)}')\n",
    "    print(f'MAE is : {metrics.mean_absolute_error(y_true, y_pred)}')\n",
    "    print(f'RMSE is : {np.sqrt(metrics.mean_squared_error(y_true, y_pred))}')\n",
    "    print(f'MAPE is : {mean_absolute_percentage_error(y_true, y_pred)}')\n",
    "    print(f'R2 is : {metrics.r2_score(y_true, y_pred)}',end='\\n\\n')\n",
    "print(timeseries_evaluation_metrics_func(y_true1, y_pred1))"
   ]
  },
  {
   "cell_type": "markdown",
   "metadata": {},
   "source": []
  },
  {
   "cell_type": "code",
   "execution_count": null,
   "metadata": {},
   "outputs": [],
   "source": []
  },
  {
   "cell_type": "code",
   "execution_count": null,
   "metadata": {},
   "outputs": [],
   "source": []
  },
  {
   "cell_type": "code",
   "execution_count": null,
   "metadata": {},
   "outputs": [],
   "source": []
  },
  {
   "cell_type": "code",
   "execution_count": null,
   "metadata": {},
   "outputs": [],
   "source": []
  },
  {
   "cell_type": "code",
   "execution_count": null,
   "metadata": {},
   "outputs": [],
   "source": [
    "\n"
   ]
  },
  {
   "cell_type": "code",
   "execution_count": null,
   "metadata": {},
   "outputs": [],
   "source": []
  },
  {
   "cell_type": "code",
   "execution_count": null,
   "metadata": {},
   "outputs": [],
   "source": []
  },
  {
   "cell_type": "code",
   "execution_count": null,
   "metadata": {},
   "outputs": [],
   "source": []
  },
  {
   "cell_type": "code",
   "execution_count": null,
   "metadata": {},
   "outputs": [],
   "source": []
  },
  {
   "cell_type": "code",
   "execution_count": null,
   "metadata": {},
   "outputs": [],
   "source": []
  },
  {
   "cell_type": "code",
   "execution_count": null,
   "metadata": {},
   "outputs": [],
   "source": []
  },
  {
   "cell_type": "code",
   "execution_count": null,
   "metadata": {},
   "outputs": [],
   "source": []
  },
  {
   "cell_type": "code",
   "execution_count": null,
   "metadata": {},
   "outputs": [],
   "source": []
  },
  {
   "cell_type": "code",
   "execution_count": null,
   "metadata": {},
   "outputs": [],
   "source": []
  },
  {
   "cell_type": "code",
   "execution_count": null,
   "metadata": {},
   "outputs": [],
   "source": []
  },
  {
   "cell_type": "code",
   "execution_count": null,
   "metadata": {},
   "outputs": [],
   "source": []
  },
  {
   "cell_type": "code",
   "execution_count": null,
   "metadata": {},
   "outputs": [],
   "source": []
  },
  {
   "cell_type": "code",
   "execution_count": null,
   "metadata": {},
   "outputs": [],
   "source": []
  },
  {
   "cell_type": "code",
   "execution_count": null,
   "metadata": {},
   "outputs": [],
   "source": []
  },
  {
   "cell_type": "code",
   "execution_count": null,
   "metadata": {},
   "outputs": [],
   "source": []
  },
  {
   "cell_type": "code",
   "execution_count": null,
   "metadata": {},
   "outputs": [],
   "source": []
  },
  {
   "cell_type": "code",
   "execution_count": null,
   "metadata": {},
   "outputs": [],
   "source": []
  }
 ],
 "metadata": {
  "kernelspec": {
   "display_name": "Python 3",
   "language": "python",
   "name": "python3"
  },
  "language_info": {
   "codemirror_mode": {
    "name": "ipython",
    "version": 3
   },
   "file_extension": ".py",
   "mimetype": "text/x-python",
   "name": "python",
   "nbconvert_exporter": "python",
   "pygments_lexer": "ipython3",
   "version": "3.8.5"
  }
 },
 "nbformat": 4,
 "nbformat_minor": 5
}
