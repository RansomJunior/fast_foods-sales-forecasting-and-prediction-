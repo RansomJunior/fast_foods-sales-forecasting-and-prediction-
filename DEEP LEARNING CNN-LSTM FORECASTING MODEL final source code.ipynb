{
 "cells": [
  {
   "cell_type": "code",
   "execution_count": 1,
   "metadata": {},
   "outputs": [],
   "source": [
    "import pandas as pd\n",
    "import numpy as np\n",
    "import tensorflow as tf\n",
    "from sklearn import preprocessing\n",
    "import matplotlib.pyplot as plt\n",
    "tf.random.set_seed(123)\n",
    "np.random.seed(123)\n",
    "from keras.callbacks import EarlyStopping"
   ]
  },
  {
   "cell_type": "code",
   "execution_count": 2,
   "metadata": {},
   "outputs": [],
   "source": [
    "#data = pd.read_csv(\"simon2018.csv\")\n",
    "data = pd.read_csv(r'timeseries_salesdata.csv',delimiter=\",\")\n",
    "data.set_index(\"Date\", inplace =True)"
   ]
  },
  {
   "cell_type": "code",
   "execution_count": 3,
   "metadata": {},
   "outputs": [],
   "source": [
    "validate = data['Sales'].tail(96)\n",
    "validate = validate.values\n",
    "test = pd.DataFrame(data['Sales'].tail(93))"
   ]
  },
  {
   "cell_type": "code",
   "execution_count": 4,
   "metadata": {},
   "outputs": [],
   "source": [
    "train = data[\"Sales\"].iloc[:-96]\n",
    "uni_data= train"
   ]
  },
  {
   "cell_type": "code",
   "execution_count": 5,
   "metadata": {},
   "outputs": [
    {
     "data": {
      "text/plain": [
       "900"
      ]
     },
     "execution_count": 5,
     "metadata": {},
     "output_type": "execute_result"
    }
   ],
   "source": [
    "uni_data = uni_data.values\n",
    "len(uni_data)"
   ]
  },
  {
   "cell_type": "code",
   "execution_count": 6,
   "metadata": {},
   "outputs": [],
   "source": [
    "# univariate cnn lstm \n",
    "from numpy import array\n",
    "from keras.models import Sequential\n",
    "from keras.layers import LSTM\n",
    "from keras.layers import Dense\n",
    "from keras.layers import Flatten\n",
    "from keras.layers import TimeDistributed\n",
    "from keras.layers.convolutional import Conv1D\n",
    "from keras.layers.convolutional import MaxPooling1D\n",
    "\n"
   ]
  },
  {
   "cell_type": "code",
   "execution_count": 7,
   "metadata": {},
   "outputs": [],
   "source": [
    "# split a univariate sequence into samples\n",
    "def split_sequence(sequence, n_steps):\n",
    "    X, y = list(), list()\n",
    "    for i in range(len(sequence)):\n",
    "        # find the end of this pattern\n",
    "        end_ix = i + n_steps\n",
    "        # check if we are beyond the sequence\n",
    "        if end_ix > len(sequence)-1:\n",
    "            break\n",
    "        # gather input and output parts of the pattern\n",
    "        seq_x, seq_y = sequence[i:end_ix], sequence[end_ix]\n",
    "        X.append(seq_x)\n",
    "        y.append(seq_y)\n",
    "    return array(X), array(y)\n",
    "# define input sequence\n",
    "raw_seq = uni_data\n",
    "# choose a number of time steps\n",
    "n_steps = 3\n",
    "# split into samples\n",
    "X, y = split_sequence(raw_seq, n_steps)\n",
    "# reshape from [samples, timesteps] into [samples, subsequences, timesteps, features]\n",
    "n_features = 1\n",
    "n_seq = 1\n",
    "n_steps =3\n",
    "X = X.reshape((X.shape[0], n_seq, n_steps, n_features))"
   ]
  },
  {
   "cell_type": "code",
   "execution_count": 8,
   "metadata": {},
   "outputs": [],
   "source": [
    "def split_sequence2(sequence2, n_steps2):\n",
    "    X2, y2 = list(), list()\n",
    "    for i in range(len(sequence2)):\n",
    "        # find the end of this pattern\n",
    "        end_ix2 = i + n_steps2\n",
    "        # check if we are beyond the sequence\n",
    "        if end_ix2 > len(sequence2)-1:\n",
    "            break\n",
    "        # gather input and output parts of the pattern\n",
    "        seq_x2, seq_y2 = sequence2[i:end_ix2], sequence2[end_ix2]\n",
    "        X2.append(seq_x2)\n",
    "        y2.append(seq_y2)\n",
    "    return array(X2), array(y2)\n",
    "# define input sequence\n",
    "raw_seq = validate\n",
    "# choose a number of time steps\n",
    "n_steps2 = 3\n",
    "# split into samples\n",
    "X2, y2 = split_sequence(raw_seq, n_steps)\n",
    "# reshape from [samples, timesteps] into [samples, subsequences, timesteps, features]\n",
    "n_features2 = 1\n",
    "n_seq2 = 1\n",
    "n_steps2 =3\n",
    "X2 = X2.reshape((X2.shape[0], n_seq2, n_steps2, n_features2))"
   ]
  },
  {
   "cell_type": "code",
   "execution_count": 9,
   "metadata": {},
   "outputs": [
    {
     "name": "stdout",
     "output_type": "stream",
     "text": [
      "(897, 1, 3, 1)\n",
      "(897,)\n",
      "(93, 1, 3, 1)\n",
      "(93,)\n"
     ]
    }
   ],
   "source": [
    "print(X.shape)\n",
    "print(y.shape)\n",
    "print(X2.shape)\n",
    "print(y2.shape)"
   ]
  },
  {
   "cell_type": "code",
   "execution_count": 10,
   "metadata": {},
   "outputs": [],
   "source": [
    "# define model\n",
    "model = Sequential()\n",
    "model.add(TimeDistributed(Conv1D(filters=64, kernel_size=1, activation='relu'), input_shape=(None, n_steps, n_features)))\n",
    "model.add(TimeDistributed(MaxPooling1D(pool_size=2)))\n",
    "model.add(TimeDistributed(Flatten()))\n",
    "model.add(LSTM(50, activation='relu'))\n",
    "model.add(Dense(1))\n",
    "model.compile(optimizer='adam', loss='mse')"
   ]
  },
  {
   "cell_type": "code",
   "execution_count": 11,
   "metadata": {},
   "outputs": [
    {
     "name": "stdout",
     "output_type": "stream",
     "text": [
      "Model: \"sequential\"\n",
      "_________________________________________________________________\n",
      "Layer (type)                 Output Shape              Param #   \n",
      "=================================================================\n",
      "time_distributed (TimeDistri (None, None, 3, 64)       128       \n",
      "_________________________________________________________________\n",
      "time_distributed_1 (TimeDist (None, None, 1, 64)       0         \n",
      "_________________________________________________________________\n",
      "time_distributed_2 (TimeDist (None, None, 64)          0         \n",
      "_________________________________________________________________\n",
      "lstm (LSTM)                  (None, 50)                23000     \n",
      "_________________________________________________________________\n",
      "dense (Dense)                (None, 1)                 51        \n",
      "=================================================================\n",
      "Total params: 23,179\n",
      "Trainable params: 23,179\n",
      "Non-trainable params: 0\n",
      "_________________________________________________________________\n"
     ]
    }
   ],
   "source": [
    "model.summary()"
   ]
  },
  {
   "cell_type": "code",
   "execution_count": 12,
   "metadata": {},
   "outputs": [
    {
     "name": "stdout",
     "output_type": "stream",
     "text": [
      "Epoch 1/100\n",
      "30/30 [==============================] - 110s 243ms/step - loss: 14867597.9355 - val_loss: 57323608.0000\n",
      "Epoch 2/100\n",
      "30/30 [==============================] - 1s 20ms/step - loss: 10369956.6774 - val_loss: 38962464.0000\n",
      "Epoch 3/100\n",
      "30/30 [==============================] - 0s 15ms/step - loss: 5809550.7097 - val_loss: 29059864.0000\n",
      "Epoch 4/100\n",
      "30/30 [==============================] - 0s 12ms/step - loss: 4313765.0565 - val_loss: 30390250.0000\n",
      "Epoch 5/100\n",
      "30/30 [==============================] - 1s 19ms/step - loss: 4406357.7581 - val_loss: 29850872.0000\n",
      "Epoch 6/100\n",
      "30/30 [==============================] - 0s 13ms/step - loss: 4365793.6210 - val_loss: 29946878.0000\n",
      "Epoch 7/100\n",
      "30/30 [==============================] - 0s 9ms/step - loss: 4374775.6210 - val_loss: 29949738.0000\n",
      "Epoch 8/100\n",
      "30/30 [==============================] - 0s 13ms/step - loss: 4375130.5887 - val_loss: 29957726.0000\n",
      "Epoch 9/100\n",
      "30/30 [==============================] - 0s 6ms/step - loss: 4376238.3306 - val_loss: 29966320.0000\n",
      "Epoch 10/100\n",
      "30/30 [==============================] - 0s 8ms/step - loss: 4377247.4435 - val_loss: 29973308.0000\n",
      "Epoch 11/100\n",
      "30/30 [==============================] - 0s 8ms/step - loss: 4378107.9677 - val_loss: 29979840.0000\n",
      "Epoch 12/100\n",
      "30/30 [==============================] - 0s 14ms/step - loss: 4378894.4274 - val_loss: 29985728.0000\n",
      "Epoch 13/100\n",
      "30/30 [==============================] - 0s 9ms/step - loss: 4379600.2984 - val_loss: 29991122.0000\n"
     ]
    }
   ],
   "source": [
    "history = model.fit(X, y, epochs=100, batch_size=30, verbose=1, validation_data=(X2,y2),callbacks=[EarlyStopping(monitor='val_loss', patience=10)],shuffle=False)\n"
   ]
  },
  {
   "cell_type": "code",
   "execution_count": 13,
   "metadata": {},
   "outputs": [],
   "source": [
    "def model_loss(history):\n",
    "    plt.figure(figsize=(8,4))\n",
    "    plt.plot(history.history['loss'], label='Train Loss')\n",
    "    plt.plot(history.history['val_loss'], label='Test Loss')\n",
    "    plt.title('CNN-LSTM model loss')\n",
    "    plt.ylabel('loss')\n",
    "    plt.xlabel('epochs')\n",
    "    plt.legend(loc='upper right')\n",
    "    plt.show();"
   ]
  },
  {
   "cell_type": "code",
   "execution_count": 14,
   "metadata": {},
   "outputs": [
    {
     "data": {
      "image/png": "[encoded data removed]",
      "text/plain": [
       "<Figure size 576x288 with 1 Axes>"
      ]
     },
     "metadata": {
      "needs_background": "light"
     },
     "output_type": "display_data"
    }
   ],
   "source": [
    "train_score = model.evaluate(X, y, verbose=0)\n",
    "#print('Train Root Mean Squared Error(RMSE): %.2f; Train Mean Absolute Error(MAE) : %.2f ' \n",
    "#% (np.sqrt(train_score[1]), train_score[2]))\n",
    "#test_score = model.evaluate(X_test, test_set, verbose=0)\n",
    "#print('Test Root Mean Squared Error(RMSE): %.2f; Test Mean Absolute Error(MAE) : %.2f ' \n",
    "#% (np.sqrt(test_score[1]), test_score[2]))\n",
    "model_loss(history)"
   ]
  },
  {
   "cell_type": "code",
   "execution_count": 16,
   "metadata": {},
   "outputs": [],
   "source": [
    "pred = model.predict(X2)\n",
    "len(pred)\n",
    "forecnn_lstm= pd.DataFrame(pred)\n",
    "forecnn_lstm.to_csv(r\"C:\\Users\\cash\\Desktop\\tafa\\Forecasting and Predicriom Notebooks&Datasets RJ\\exported_CNN-LSTMforecasts_dataframe.csv\",index = False,header=True)"
   ]
  },
  {
   "cell_type": "code",
   "execution_count": 17,
   "metadata": {},
   "outputs": [
    {
     "data": {
      "text/html": [
       "<div>\n",
       "<style scoped>\n",
       "    .dataframe tbody tr th:only-of-type {\n",
       "        vertical-align: middle;\n",
       "    }\n",
       "\n",
       "    .dataframe tbody tr th {\n",
       "        vertical-align: top;\n",
       "    }\n",
       "\n",
       "    .dataframe thead th {\n",
       "        text-align: right;\n",
       "    }\n",
       "</style>\n",
       "<table border=\"1\" class=\"dataframe\">\n",
       "  <thead>\n",
       "    <tr style=\"text-align: right;\">\n",
       "      <th></th>\n",
       "      <th>Actual Sales</th>\n",
       "      <th>CNN_LSTM</th>\n",
       "    </tr>\n",
       "    <tr>\n",
       "      <th>Date</th>\n",
       "      <th></th>\n",
       "      <th></th>\n",
       "    </tr>\n",
       "  </thead>\n",
       "  <tbody>\n",
       "    <tr>\n",
       "      <th>30-Sep-20</th>\n",
       "      <td>6561.50</td>\n",
       "      <td>6411.743164</td>\n",
       "    </tr>\n",
       "    <tr>\n",
       "      <th>1-Oct-20</th>\n",
       "      <td>4599.50</td>\n",
       "      <td>4513.779785</td>\n",
       "    </tr>\n",
       "    <tr>\n",
       "      <th>2-Oct-20</th>\n",
       "      <td>4983.00</td>\n",
       "      <td>4999.888672</td>\n",
       "    </tr>\n",
       "    <tr>\n",
       "      <th>3-Oct-20</th>\n",
       "      <td>16826.00</td>\n",
       "      <td>4999.888672</td>\n",
       "    </tr>\n",
       "    <tr>\n",
       "      <th>4-Oct-20</th>\n",
       "      <td>28484.00</td>\n",
       "      <td>3797.377441</td>\n",
       "    </tr>\n",
       "    <tr>\n",
       "      <th>...</th>\n",
       "      <td>...</td>\n",
       "      <td>...</td>\n",
       "    </tr>\n",
       "    <tr>\n",
       "      <th>27-Dec-20</th>\n",
       "      <td>3116.25</td>\n",
       "      <td>2884.467285</td>\n",
       "    </tr>\n",
       "    <tr>\n",
       "      <th>28-Dec-20</th>\n",
       "      <td>7736.05</td>\n",
       "      <td>2196.976074</td>\n",
       "    </tr>\n",
       "    <tr>\n",
       "      <th>29-Dec-20</th>\n",
       "      <td>6981.61</td>\n",
       "      <td>2375.276611</td>\n",
       "    </tr>\n",
       "    <tr>\n",
       "      <th>30-Dec-20</th>\n",
       "      <td>3702.45</td>\n",
       "      <td>5894.667480</td>\n",
       "    </tr>\n",
       "    <tr>\n",
       "      <th>31-Dec-20</th>\n",
       "      <td>5132.95</td>\n",
       "      <td>5894.667480</td>\n",
       "    </tr>\n",
       "  </tbody>\n",
       "</table>\n",
       "<p>93 rows × 2 columns</p>\n",
       "</div>"
      ],
      "text/plain": [
       "           Actual Sales     CNN_LSTM\n",
       "Date                                \n",
       "30-Sep-20       6561.50  6411.743164\n",
       "1-Oct-20        4599.50  4513.779785\n",
       "2-Oct-20        4983.00  4999.888672\n",
       "3-Oct-20       16826.00  4999.888672\n",
       "4-Oct-20       28484.00  3797.377441\n",
       "...                 ...          ...\n",
       "27-Dec-20       3116.25  2884.467285\n",
       "28-Dec-20       7736.05  2196.976074\n",
       "29-Dec-20       6981.61  2375.276611\n",
       "30-Dec-20       3702.45  5894.667480\n",
       "31-Dec-20       5132.95  5894.667480\n",
       "\n",
       "[93 rows x 2 columns]"
      ]
     },
     "execution_count": 17,
     "metadata": {},
     "output_type": "execute_result"
    }
   ],
   "source": [
    "actual_fore=test.rename(columns={\"Sales\":\"Actual Sales\"})\n",
    "actual_fore[\"CNN_LSTM\"]=forecnn_lstm.values\n",
    "cnn_lstm=actual_fore\n",
    "cnn_lstm"
   ]
  },
  {
   "cell_type": "code",
   "execution_count": 18,
   "metadata": {},
   "outputs": [
    {
     "data": {
      "image/png": "[encoded data removed]",
      "text/plain": [
       "<Figure size 1080x432 with 1 Axes>"
      ]
     },
     "metadata": {
      "needs_background": "light"
     },
     "output_type": "display_data"
    }
   ],
   "source": [
    "from matplotlib import pyplot\n",
    "cnn_lstm['Actual Sales'].plot(figsize=(15,6),label=\"Actual Sales\")\n",
    "cnn_lstm['CNN_LSTM'].plot(figsize=(15,6), label = \"CNN_LSTM\")\n",
    "pyplot.xlabel(\"Date\")\n",
    "pyplot.ylabel(\"Sales\")\n",
    "pyplot.title(\"Actual Sales VS CNN_LSTM Forecast\")\n",
    "pyplot.legend()\n",
    "pyplot.savefig(\"series plot.png\")\n",
    "pyplot.show()"
   ]
  },
  {
   "cell_type": "code",
   "execution_count": 19,
   "metadata": {},
   "outputs": [],
   "source": [
    "y_true1 = cnn_lstm[\"Actual Sales\"].dropna()\n",
    "y_pred1 = cnn_lstm[\"CNN_LSTM\"].dropna()"
   ]
  },
  {
   "cell_type": "code",
   "execution_count": 20,
   "metadata": {},
   "outputs": [
    {
     "name": "stdout",
     "output_type": "stream",
     "text": [
      "Evaluation metric results:-\n",
      "MSE is : 29991120.31381193\n",
      "MAE is : 3705.5690020161283\n",
      "RMSE is : 5476.4149143223185\n",
      "MAPE is : 56.78400668679791\n",
      "R2 is : -0.9684064962764973\n",
      "\n",
      "None\n"
     ]
    }
   ],
   "source": [
    "from sklearn import metrics\n",
    "def timeseries_evaluation_metrics_func(y_true, y_pred):\n",
    "    \n",
    "    def mean_absolute_percentage_error(y_true, y_pred): \n",
    "        y_true, y_pred = np.array(y_true), np.array(y_pred)\n",
    "        return np.mean(np.abs((y_true - y_pred) / y_true)) * 100\n",
    "    print('Evaluation metric results:-')\n",
    "    print(f'MSE is : {metrics.mean_squared_error(y_true, y_pred)}')\n",
    "    print(f'MAE is : {metrics.mean_absolute_error(y_true, y_pred)}')\n",
    "    print(f'RMSE is : {np.sqrt(metrics.mean_squared_error(y_true, y_pred))}')\n",
    "    print(f'MAPE is : {mean_absolute_percentage_error(y_true, y_pred)}')\n",
    "    print(f'R2 is : {metrics.r2_score(y_true, y_pred)}',end='\\n\\n')\n",
    "print(timeseries_evaluation_metrics_func(y_true1, y_pred1))"
   ]
  },
  {
   "cell_type": "code",
   "execution_count": null,
   "metadata": {},
   "outputs": [],
   "source": []
  }
 ],
 "metadata": {
  "kernelspec": {
   "display_name": "Python 3",
   "language": "python",
   "name": "python3"
  },
  "language_info": {
   "codemirror_mode": {
    "name": "ipython",
    "version": 3
   },
   "file_extension": ".py",
   "mimetype": "text/x-python",
   "name": "python",
   "nbconvert_exporter": "python",
   "pygments_lexer": "ipython3",
   "version": "3.8.5"
  }
 },
 "nbformat": 4,
 "nbformat_minor": 5
}
