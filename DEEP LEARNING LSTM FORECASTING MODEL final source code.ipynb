{
 "cells": [
  {
   "cell_type": "markdown",
   "metadata": {},
   "source": [
    "# LSTM FORECASTING MODEL"
   ]
  },
  {
   "cell_type": "code",
   "execution_count": 1,
   "metadata": {},
   "outputs": [
    {
     "name": "stdout",
     "output_type": "stream",
     "text": [
      "C:\\Users\\cash\n"
     ]
    }
   ],
   "source": [
    "#cd~"
   ]
  },
  {
   "cell_type": "code",
   "execution_count": 1,
   "metadata": {},
   "outputs": [],
   "source": [
    "import math\n",
    "import matplotlib.pyplot as plt\n",
    "import keras\n",
    "import pandas as pd\n",
    "import numpy as np\n",
    "from keras.models import Sequential \n",
    "from keras.layers import Dense\n",
    "from keras.layers import LSTM\n",
    "from keras.layers import Dropout\n",
    "from keras.layers import *\n",
    "from sklearn.preprocessing import MinMaxScaler\n",
    "from sklearn.metrics import mean_squared_error, mean_absolute_error\n",
    "from sklearn.model_selection import train_test_split\n",
    "from keras.callbacks import EarlyStopping\n"
   ]
  },
  {
   "cell_type": "code",
   "execution_count": 2,
   "metadata": {},
   "outputs": [
    {
     "name": "stdout",
     "output_type": "stream",
     "text": [
      "Number of Row and Columns: (996, 2)\n"
     ]
    },
    {
     "data": {
      "text/html": [
       "<div>\n",
       "<style scoped>\n",
       "    .dataframe tbody tr th:only-of-type {\n",
       "        vertical-align: middle;\n",
       "    }\n",
       "\n",
       "    .dataframe tbody tr th {\n",
       "        vertical-align: top;\n",
       "    }\n",
       "\n",
       "    .dataframe thead th {\n",
       "        text-align: right;\n",
       "    }\n",
       "</style>\n",
       "<table border=\"1\" class=\"dataframe\">\n",
       "  <thead>\n",
       "    <tr style=\"text-align: right;\">\n",
       "      <th></th>\n",
       "      <th>Date</th>\n",
       "      <th>Sales</th>\n",
       "    </tr>\n",
       "  </thead>\n",
       "  <tbody>\n",
       "    <tr>\n",
       "      <th>0</th>\n",
       "      <td>11-Apr-18</td>\n",
       "      <td>4388.23</td>\n",
       "    </tr>\n",
       "    <tr>\n",
       "      <th>1</th>\n",
       "      <td>12-Apr-18</td>\n",
       "      <td>5206.76</td>\n",
       "    </tr>\n",
       "    <tr>\n",
       "      <th>2</th>\n",
       "      <td>13-Apr-18</td>\n",
       "      <td>1784.65</td>\n",
       "    </tr>\n",
       "    <tr>\n",
       "      <th>3</th>\n",
       "      <td>14-Apr-18</td>\n",
       "      <td>2419.71</td>\n",
       "    </tr>\n",
       "    <tr>\n",
       "      <th>4</th>\n",
       "      <td>15-Apr-18</td>\n",
       "      <td>2462.46</td>\n",
       "    </tr>\n",
       "  </tbody>\n",
       "</table>\n",
       "</div>"
      ],
      "text/plain": [
       "        Date    Sales\n",
       "0  11-Apr-18  4388.23\n",
       "1  12-Apr-18  5206.76\n",
       "2  13-Apr-18  1784.65\n",
       "3  14-Apr-18  2419.71\n",
       "4  15-Apr-18  2462.46"
      ]
     },
     "execution_count": 2,
     "metadata": {},
     "output_type": "execute_result"
    }
   ],
   "source": [
    "df = pd.read_csv(\"timeseries_salesdata.csv\")\n",
    "print(\"Number of Row and Columns:\",df.shape)\n",
    "df.head()"
   ]
  },
  {
   "cell_type": "code",
   "execution_count": 3,
   "metadata": {},
   "outputs": [],
   "source": [
    "training_set = df.iloc[:900,1:2].values\n",
    "test_set = df.iloc[900:,1:2].values"
   ]
  },
  {
   "cell_type": "code",
   "execution_count": 4,
   "metadata": {},
   "outputs": [
    {
     "name": "stdout",
     "output_type": "stream",
     "text": [
      "900\n",
      "96\n"
     ]
    }
   ],
   "source": [
    "print(len(training_set))\n",
    "print(len(test_set))"
   ]
  },
  {
   "cell_type": "code",
   "execution_count": 5,
   "metadata": {},
   "outputs": [],
   "source": [
    "#Feature Scaling\n",
    "sc= MinMaxScaler(feature_range = (0,1))\n",
    "training_set_scaled = sc.fit_transform(training_set)\n",
    "\n",
    "#Creating a data structure with 60 time-steps and 1 output\n",
    "X_train = []\n",
    "y_train = []\n",
    "\n",
    "for i in range (30,900):\n",
    "    X_train.append(training_set_scaled[i-30:i, 0])\n",
    "    y_train.append(training_set_scaled[i,0])\n",
    "\n",
    "X_train,y_train = np.array(X_train), np.array(y_train)\n",
    "X_train = np.reshape(X_train, (X_train.shape[0], X_train.shape[1],1))\n",
    "#(870,30,1)"
   ]
  },
  {
   "cell_type": "code",
   "execution_count": 6,
   "metadata": {},
   "outputs": [],
   "source": [
    "\n",
    "dataset_train = df.iloc[:900,1:2]\n",
    "dataset_test = df.iloc[900:,1:2]\n",
    "\n",
    "dataset_total = pd.concat((dataset_train, dataset_test), axis = 0)\n",
    "inputs = dataset_total[len(dataset_total)- len(dataset_test)-30:].values\n",
    "inputs = inputs.reshape(-1,1)\n",
    "inputs = sc.transform(inputs)\n",
    "X_test = []\n",
    "y_test = []\n",
    "\n",
    "for i in range (30,126):\n",
    "    X_test.append(inputs[i-30:i, 0])\n",
    "    y_test.append(inputs[i,0])\n",
    "\n",
    "X_test,y_test = np.array(X_test),np.array(y_test)\n",
    "X_test = np.reshape(X_test, (X_test.shape[0],X_test.shape[1],1))\n",
    "# shape (459,60,1)"
   ]
  },
  {
   "cell_type": "code",
   "execution_count": 7,
   "metadata": {},
   "outputs": [
    {
     "name": "stdout",
     "output_type": "stream",
     "text": [
      "(870, 30, 1)\n",
      "(870,)\n",
      "(96, 30, 1)\n",
      "(96,)\n"
     ]
    }
   ],
   "source": [
    "print(X_train.shape)\n",
    "print(y_train.shape)\n",
    "print(X_test.shape)\n",
    "print(y_test.shape)\n"
   ]
  },
  {
   "cell_type": "code",
   "execution_count": 8,
   "metadata": {},
   "outputs": [],
   "source": [
    "model = Sequential()\n",
    "\n",
    "#Adding the first LSTM Layer and Some Dropout regularisation\n",
    "\n",
    "model.add(LSTM(units = 50, return_sequences =True, input_shape = (X_train.shape[1],1)))\n",
    "model.add(Dropout(0.2))\n",
    "\n",
    "#Adding a second layer LSTM Layer and some dropout regularisation\n",
    "model.add(LSTM(units = 50, return_sequences =True))\n",
    "model.add(Dropout(0.2))\n",
    "\n",
    "#Adding a Third LSTM Layer and some Dropout\n",
    "model.add(LSTM(units = 50, return_sequences =True))\n",
    "model.add(Dropout(0.2))\n",
    "\n",
    "#Adding a fouth LSTM Layer and ...\n",
    "model.add(LSTM(units = 50))\n",
    "model.add(Dropout(0.2))\n",
    "\n",
    "#Adding the output layer\n",
    "model.add(Dense(units=1))\n",
    "\n",
    "#compling the RNN\n",
    "model.compile(optimizer = \"adam\", loss = \"mean_squared_error\")\n",
    "\n"
   ]
  },
  {
   "cell_type": "code",
   "execution_count": 9,
   "metadata": {},
   "outputs": [
    {
     "name": "stdout",
     "output_type": "stream",
     "text": [
      "Epoch 1/100\n",
      "28/28 [==============================] - 106s 459ms/step - loss: 0.0091 - val_loss: 0.0444\n",
      "Epoch 2/100\n",
      "28/28 [==============================] - 3s 123ms/step - loss: 0.0087 - val_loss: 0.0431\n",
      "Epoch 3/100\n",
      "28/28 [==============================] - 3s 118ms/step - loss: 0.0085 - val_loss: 0.0441\n",
      "Epoch 4/100\n",
      "28/28 [==============================] - 4s 127ms/step - loss: 0.0077 - val_loss: 0.0414\n",
      "Epoch 5/100\n",
      "28/28 [==============================] - 4s 140ms/step - loss: 0.0077 - val_loss: 0.0406\n",
      "Epoch 6/100\n",
      "28/28 [==============================] - 4s 137ms/step - loss: 0.0072 - val_loss: 0.0398\n",
      "Epoch 7/100\n",
      "28/28 [==============================] - 3s 121ms/step - loss: 0.0071 - val_loss: 0.0394\n",
      "Epoch 8/100\n",
      "28/28 [==============================] - 3s 117ms/step - loss: 0.0068 - val_loss: 0.0393\n",
      "Epoch 9/100\n",
      "28/28 [==============================] - 4s 139ms/step - loss: 0.0067 - val_loss: 0.0389\n",
      "Epoch 10/100\n",
      "28/28 [==============================] - 4s 152ms/step - loss: 0.0068 - val_loss: 0.0387\n",
      "Epoch 11/100\n",
      "28/28 [==============================] - 3s 121ms/step - loss: 0.0067 - val_loss: 0.0388\n",
      "Epoch 12/100\n",
      "28/28 [==============================] - 4s 152ms/step - loss: 0.0067 - val_loss: 0.0390\n",
      "Epoch 13/100\n",
      "28/28 [==============================] - 4s 137ms/step - loss: 0.0068 - val_loss: 0.0388\n",
      "Epoch 14/100\n",
      "28/28 [==============================] - 4s 135ms/step - loss: 0.0066 - val_loss: 0.0396\n",
      "Epoch 15/100\n",
      "28/28 [==============================] - 3s 118ms/step - loss: 0.0064 - val_loss: 0.0392\n",
      "Epoch 16/100\n",
      "28/28 [==============================] - 3s 119ms/step - loss: 0.0064 - val_loss: 0.0382\n",
      "Epoch 17/100\n",
      "28/28 [==============================] - 3s 121ms/step - loss: 0.0065 - val_loss: 0.0389\n",
      "Epoch 18/100\n",
      "28/28 [==============================] - 4s 153ms/step - loss: 0.0064 - val_loss: 0.0389\n",
      "Epoch 19/100\n",
      "28/28 [==============================] - 3s 121ms/step - loss: 0.0065 - val_loss: 0.0382\n",
      "Epoch 20/100\n",
      "28/28 [==============================] - 3s 119ms/step - loss: 0.0065 - val_loss: 0.0393\n",
      "Epoch 21/100\n",
      "28/28 [==============================] - 3s 123ms/step - loss: 0.0064 - val_loss: 0.0382\n",
      "Epoch 22/100\n",
      "28/28 [==============================] - 4s 146ms/step - loss: 0.0065 - val_loss: 0.0387\n",
      "Epoch 23/100\n",
      "28/28 [==============================] - 4s 137ms/step - loss: 0.0064 - val_loss: 0.0386\n",
      "Epoch 24/100\n",
      "28/28 [==============================] - 3s 120ms/step - loss: 0.0063 - val_loss: 0.0385\n",
      "Epoch 25/100\n",
      "28/28 [==============================] - 3s 117ms/step - loss: 0.0064 - val_loss: 0.0379\n",
      "Epoch 26/100\n",
      "28/28 [==============================] - 4s 140ms/step - loss: 0.0066 - val_loss: 0.0387\n",
      "Epoch 27/100\n",
      "28/28 [==============================] - 4s 155ms/step - loss: 0.0066 - val_loss: 0.0392\n",
      "Epoch 28/100\n",
      "28/28 [==============================] - 3s 122ms/step - loss: 0.0063 - val_loss: 0.0380\n",
      "Epoch 29/100\n",
      "28/28 [==============================] - 4s 142ms/step - loss: 0.0065 - val_loss: 0.0384\n",
      "Epoch 30/100\n",
      "28/28 [==============================] - 4s 141ms/step - loss: 0.0065 - val_loss: 0.0387\n",
      "Epoch 31/100\n",
      "28/28 [==============================] - 5s 176ms/step - loss: 0.0063 - val_loss: 0.0390\n",
      "Epoch 32/100\n",
      "28/28 [==============================] - 3s 122ms/step - loss: 0.0063 - val_loss: 0.0388\n",
      "Epoch 33/100\n",
      "28/28 [==============================] - 4s 124ms/step - loss: 0.0063 - val_loss: 0.0390\n",
      "Epoch 34/100\n",
      "28/28 [==============================] - 4s 128ms/step - loss: 0.0063 - val_loss: 0.0389\n",
      "Epoch 35/100\n",
      "28/28 [==============================] - 4s 150ms/step - loss: 0.0064 - val_loss: 0.0395\n"
     ]
    }
   ],
   "source": [
    "#Fitting the RNN to the Training set\n",
    "\n",
    "history = model.fit(X_train, y_train, epochs = 100, batch_size = 32, verbose=1,validation_data=(X_test,y_test), callbacks=[EarlyStopping(monitor='val_loss', patience=10)],shuffle=False)"
   ]
  },
  {
   "cell_type": "code",
   "execution_count": null,
   "metadata": {},
   "outputs": [],
   "source": []
  },
  {
   "cell_type": "code",
   "execution_count": 10,
   "metadata": {},
   "outputs": [
    {
     "name": "stdout",
     "output_type": "stream",
     "text": [
      "Model: \"sequential\"\n",
      "_________________________________________________________________\n",
      "Layer (type)                 Output Shape              Param #   \n",
      "=================================================================\n",
      "lstm (LSTM)                  (None, 30, 50)            10400     \n",
      "_________________________________________________________________\n",
      "dropout (Dropout)            (None, 30, 50)            0         \n",
      "_________________________________________________________________\n",
      "lstm_1 (LSTM)                (None, 30, 50)            20200     \n",
      "_________________________________________________________________\n",
      "dropout_1 (Dropout)          (None, 30, 50)            0         \n",
      "_________________________________________________________________\n",
      "lstm_2 (LSTM)                (None, 30, 50)            20200     \n",
      "_________________________________________________________________\n",
      "dropout_2 (Dropout)          (None, 30, 50)            0         \n",
      "_________________________________________________________________\n",
      "lstm_3 (LSTM)                (None, 50)                20200     \n",
      "_________________________________________________________________\n",
      "dropout_3 (Dropout)          (None, 50)                0         \n",
      "_________________________________________________________________\n",
      "dense (Dense)                (None, 1)                 51        \n",
      "=================================================================\n",
      "Total params: 71,051\n",
      "Trainable params: 71,051\n",
      "Non-trainable params: 0\n",
      "_________________________________________________________________\n"
     ]
    }
   ],
   "source": [
    "model.summary()"
   ]
  },
  {
   "cell_type": "code",
   "execution_count": 11,
   "metadata": {},
   "outputs": [],
   "source": [
    "#Getting the predicted stock price of 2017\n",
    "\n",
    "dataset_train = df.iloc[:900,1:2]\n",
    "dataset_test = df.iloc[900:,1:2]\n",
    "\n",
    "dataset_total = pd.concat((dataset_train, dataset_test), axis = 0)\n",
    "inputs = dataset_total[len(dataset_total)- len(dataset_test)-30:].values\n",
    "inputs = inputs.reshape(-1,1)\n",
    "inputs = sc.transform(inputs)\n",
    "X_test = []\n",
    "\n",
    "for i in range (30,126):\n",
    "    X_test.append(inputs[i-30:i, 0])\n",
    "\n",
    "X_test = np.array(X_test)\n",
    "X_test = np.reshape(X_test, (X_test.shape[0],X_test.shape[1],1))\n",
    "# shape (459,60,1)"
   ]
  },
  {
   "cell_type": "code",
   "execution_count": 12,
   "metadata": {},
   "outputs": [
    {
     "data": {
      "text/plain": [
       "(96, 30, 1)"
      ]
     },
     "execution_count": 12,
     "metadata": {},
     "output_type": "execute_result"
    }
   ],
   "source": [
    "X_test.shape"
   ]
  },
  {
   "cell_type": "code",
   "execution_count": 13,
   "metadata": {},
   "outputs": [],
   "source": [
    "#pred.shape"
   ]
  },
  {
   "cell_type": "code",
   "execution_count": 14,
   "metadata": {},
   "outputs": [
    {
     "data": {
      "text/plain": [
       "(96, 1)"
      ]
     },
     "execution_count": 14,
     "metadata": {},
     "output_type": "execute_result"
    }
   ],
   "source": [
    "#Making Predictions \n",
    "pred = model.predict(X_test)\n",
    "pred = sc.inverse_transform(pred)\n",
    "pred.shape"
   ]
  },
  {
   "cell_type": "code",
   "execution_count": 15,
   "metadata": {},
   "outputs": [
    {
     "data": {
      "image/png": "[encoded data removed]",
      "text/plain": [
       "<Figure size 1080x432 with 1 Axes>"
      ]
     },
     "metadata": {
      "needs_background": "light"
     },
     "output_type": "display_data"
    }
   ],
   "source": [
    "plt.rcParams['figure.figsize']= [15,6]\n",
    "plt.plot(df.loc[900:,\"Date\"], dataset_test.values, label = \"Actual Sales\")\n",
    "plt.plot(df.loc[900:,\"Date\"],pred, label = \"LSTM\")\n",
    "plt.xticks(np.arange(0,96,10))\n",
    "plt.title(\"Actual Sales VS LSTM Prediction\")\n",
    "plt.xlabel(\"Date\")\n",
    "plt.ylabel(\"Sales\")\n",
    "plt.legend()\n",
    "plt.show()"
   ]
  },
  {
   "cell_type": "code",
   "execution_count": null,
   "metadata": {},
   "outputs": [],
   "source": []
  },
  {
   "cell_type": "code",
   "execution_count": 16,
   "metadata": {},
   "outputs": [],
   "source": [
    "from sklearn import metrics\n",
    "def timeseries_evaluation_metrics_func(y_true, y_pred):\n",
    "    \n",
    "    def mean_absolute_percentage_error(y_true, y_pred): \n",
    "        y_true, y_pred = np.array(y_true), np.array(y_pred)\n",
    "        return np.mean(np.abs((y_true - y_pred) / y_true)) * 100\n",
    "    print('Evaluation metric results:-')\n",
    "    print(f'MSE is : {metrics.mean_squared_error(y_true, y_pred)}')\n",
    "    print(f'MAE is : {metrics.mean_absolute_error(y_true, y_pred)}')\n",
    "    print(f'RMSE is : {np.sqrt(metrics.mean_squared_error(y_true, y_pred))}')\n",
    "    print(f'MAPE is : {mean_absolute_percentage_error(y_true, y_pred)}')\n",
    "    print(f'R2 is : {metrics.r2_score(y_true, y_pred)}',end='\\n\\n')"
   ]
  },
  {
   "cell_type": "code",
   "execution_count": 17,
   "metadata": {},
   "outputs": [
    {
     "name": "stdout",
     "output_type": "stream",
     "text": [
      "Evaluation metric results:-\n",
      "MSE is : 15714210.920013169\n",
      "MAE is : 2696.668033854167\n",
      "RMSE is : 3964.1154019545356\n",
      "MAPE is : 40.2790542874214\n",
      "R2 is : -0.055197409336419145\n",
      "\n",
      "None\n"
     ]
    }
   ],
   "source": [
    "print(timeseries_evaluation_metrics_func(test_set,pred))"
   ]
  },
  {
   "cell_type": "code",
   "execution_count": 18,
   "metadata": {},
   "outputs": [],
   "source": [
    "#LSTMmodel = model.fit(X_train, y_train, epochs = 100, batch_size = 32)"
   ]
  },
  {
   "cell_type": "code",
   "execution_count": 19,
   "metadata": {},
   "outputs": [],
   "source": [
    "def model_loss(history):\n",
    "    plt.figure(figsize=(8,4))\n",
    "    plt.plot(history.history['loss'], label='Train Loss')\n",
    "    plt.plot(history.history['val_loss'], label='Test Loss')\n",
    "    plt.title('LSTM model loss')\n",
    "    plt.ylabel('loss')\n",
    "    plt.xlabel('epochs')\n",
    "    plt.legend(loc='upper right')\n",
    "    plt.show();"
   ]
  },
  {
   "cell_type": "code",
   "execution_count": 20,
   "metadata": {},
   "outputs": [
    {
     "data": {
      "image/png": "[encoded data removed]",
      "text/plain": [
       "<Figure size 576x288 with 1 Axes>"
      ]
     },
     "metadata": {
      "needs_background": "light"
     },
     "output_type": "display_data"
    }
   ],
   "source": [
    "train_score = model.evaluate(X_train, y_train, verbose=0)\n",
    "#print('Train Root Mean Squared Error(RMSE): %.2f; Train Mean Absolute Error(MAE) : %.2f ' \n",
    "#% (np.sqrt(train_score[1]), train_score[2]))\n",
    "#test_score = model.evaluate(X_test, test_set, verbose=0)\n",
    "#print('Test Root Mean Squared Error(RMSE): %.2f; Test Mean Absolute Error(MAE) : %.2f ' \n",
    "#% (np.sqrt(test_score[1]), test_score[2]))\n",
    "model_loss(history)"
   ]
  },
  {
   "cell_type": "code",
   "execution_count": null,
   "metadata": {},
   "outputs": [],
   "source": []
  }
 ],
 "metadata": {
  "kernelspec": {
   "display_name": "Python 3",
   "language": "python",
   "name": "python3"
  },
  "language_info": {
   "codemirror_mode": {
    "name": "ipython",
    "version": 3
   },
   "file_extension": ".py",
   "mimetype": "text/x-python",
   "name": "python",
   "nbconvert_exporter": "python",
   "pygments_lexer": "ipython3",
   "version": "3.8.5"
  }
 },
 "nbformat": 4,
 "nbformat_minor": 5
}
