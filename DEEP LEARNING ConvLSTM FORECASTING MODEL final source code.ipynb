{
 "cells": [
  {
   "cell_type": "code",
   "execution_count": 1,
   "metadata": {},
   "outputs": [],
   "source": [
    "import pandas as pd\n",
    "import numpy as np\n",
    "import tensorflow as tf\n",
    "from sklearn import preprocessing\n",
    "import matplotlib.pyplot as plt\n",
    "tf.random.set_seed(123)\n",
    "np.random.seed(123)\n",
    "from keras.callbacks import EarlyStopping"
   ]
  },
  {
   "cell_type": "code",
   "execution_count": 2,
   "metadata": {},
   "outputs": [],
   "source": [
    "data = pd.read_csv(\"timeseries_salesdata.csv\")\n",
    "data.set_index(\"Date\", inplace =True)\n",
    "valid = pd.read_csv(r'dec.csv')"
   ]
  },
  {
   "cell_type": "code",
   "execution_count": 3,
   "metadata": {},
   "outputs": [],
   "source": [
    "validate = data['Sales'].tail(96)\n",
    "validate = validate.values\n",
    "test = pd.DataFrame(data['Sales'].tail(93))"
   ]
  },
  {
   "cell_type": "code",
   "execution_count": 4,
   "metadata": {},
   "outputs": [],
   "source": [
    "train = data[\"Sales\"].iloc[:-96]\n",
    "uni_data= train"
   ]
  },
  {
   "cell_type": "code",
   "execution_count": 5,
   "metadata": {},
   "outputs": [
    {
     "data": {
      "text/plain": [
       "900"
      ]
     },
     "execution_count": 5,
     "metadata": {},
     "output_type": "execute_result"
    }
   ],
   "source": [
    "uni_data = uni_data.values\n",
    "len(uni_data)"
   ]
  },
  {
   "cell_type": "code",
   "execution_count": 6,
   "metadata": {},
   "outputs": [],
   "source": [
    "# univariate convlstm example\n",
    "from numpy import array\n",
    "from keras.models import Sequential\n",
    "from keras.layers import LSTM\n",
    "from keras.layers import Dense\n",
    "from keras.layers import Flatten\n",
    "from keras.layers import ConvLSTM2D\n",
    "\n",
    "# split a univariate sequence into samples\n",
    "def split_sequence(sequence, n_steps):\n",
    "    X, y = list(), list()\n",
    "    for i in range(len(sequence)):\n",
    "        # find the end of this pattern\n",
    "        end_ix = i + n_steps\n",
    "        # check if we are beyond the sequence\n",
    "        if end_ix > len(sequence)-1:\n",
    "            break\n",
    "        # gather input and output parts of the pattern\n",
    "        seq_x, seq_y = sequence[i:end_ix], sequence[end_ix]\n",
    "        X.append(seq_x)\n",
    "        y.append(seq_y)\n",
    "    return array(X), array(y)\n",
    "\n",
    "# define input sequence\n",
    "raw_seq = uni_data\n",
    "# choose a number of time steps\n",
    "n_steps = 3\n",
    "# split into samples\n",
    "X, y = split_sequence(raw_seq, n_steps)\n",
    "# reshape from [samples, timesteps] into [samples, timesteps, rows, columns, features]\n",
    "n_features = 1\n",
    "n_seq = 1\n",
    "n_steps = 3\n",
    "\n",
    "\n",
    "X = X.reshape((X.shape[0], n_seq, 1, n_steps, n_features))\n"
   ]
  },
  {
   "cell_type": "code",
   "execution_count": 7,
   "metadata": {},
   "outputs": [],
   "source": [
    "# split a univariate sequence into samples\n",
    "from numpy import array\n",
    "def split_sequence2(sequence2, n_steps2):\n",
    "    X2, y2 = list(), list()\n",
    "    for i in range(len(sequence2)):\n",
    "# find the end of this pattern\n",
    "        end_ix2 = i + n_steps2\n",
    "        # check if we are beyond the sequence\n",
    "        if end_ix2 > len(sequence2)-1:\n",
    "            break\n",
    "        # gather input and output parts of the pattern\n",
    "        seq_x2, seq_y2 = sequence2[i:end_ix2], sequence2[end_ix2]\n",
    "        X2.append(seq_x2)\n",
    "        y2.append(seq_y2)\n",
    "    return array(X2), array(y2)\n",
    "\n",
    "# define input sequence\n",
    "raw_seq2 = validate\n",
    "# choose a number of time steps\n",
    "n_steps2 = 3\n",
    "# split into samples\n",
    "X2, y2 = split_sequence2(raw_seq2, n_steps2)\n",
    "# reshape from [samples, timesteps] into [samples, timesteps, rows, columns, features]\n",
    "n_features = 1\n",
    "n_seq = 1\n",
    "n_steps = 3\n",
    "\n",
    "\n",
    "X2 = X2.reshape((X2.shape[0], n_seq, 1, n_steps2, n_features))"
   ]
  },
  {
   "cell_type": "code",
   "execution_count": 8,
   "metadata": {},
   "outputs": [
    {
     "name": "stdout",
     "output_type": "stream",
     "text": [
      "(897, 1, 1, 3, 1)\n",
      "(897,)\n",
      "(93, 1, 1, 3, 1)\n",
      "(93,)\n"
     ]
    }
   ],
   "source": [
    "print(X.shape)\n",
    "print(y.shape)\n",
    "print(X2.shape)\n",
    "print(y2.shape)"
   ]
  },
  {
   "cell_type": "code",
   "execution_count": 9,
   "metadata": {},
   "outputs": [
    {
     "name": "stdout",
     "output_type": "stream",
     "text": [
      "Epoch 1/100\n",
      "30/30 [==============================] - 81s 163ms/step - loss: 14204513.4839 - val_loss: 54099572.0000\n",
      "Epoch 2/100\n",
      "30/30 [==============================] - 1s 19ms/step - loss: 9816465.4355 - val_loss: 31491782.0000\n",
      "Epoch 3/100\n",
      "30/30 [==============================] - 1s 23ms/step - loss: 5310123.0645 - val_loss: 19929834.0000\n",
      "Epoch 4/100\n",
      "30/30 [==============================] - 1s 18ms/step - loss: 3355842.1532 - val_loss: 18754588.0000\n",
      "Epoch 5/100\n",
      "30/30 [==============================] - 1s 22ms/step - loss: 3112708.0806 - val_loss: 18878330.0000\n",
      "Epoch 6/100\n",
      "30/30 [==============================] - 1s 20ms/step - loss: 3056545.2984 - val_loss: 18566098.0000\n",
      "Epoch 7/100\n",
      "30/30 [==============================] - 1s 23ms/step - loss: 3029674.6573 - val_loss: 18480016.0000\n",
      "Epoch 8/100\n",
      "30/30 [==============================] - 0s 17ms/step - loss: 2996058.8185 - val_loss: 18745532.0000\n",
      "Epoch 9/100\n",
      "30/30 [==============================] - 0s 15ms/step - loss: 2995891.8427 - val_loss: 18717628.0000\n",
      "Epoch 10/100\n",
      "30/30 [==============================] - 1s 27ms/step - loss: 3082910.7782 - val_loss: 18751674.0000\n",
      "Epoch 11/100\n",
      "30/30 [==============================] - 1s 20ms/step - loss: 3027062.8427 - val_loss: 18657186.0000\n",
      "Epoch 12/100\n",
      "30/30 [==============================] - 1s 28ms/step - loss: 2967383.6532 - val_loss: 18708956.0000\n",
      "Epoch 13/100\n",
      "30/30 [==============================] - 1s 20ms/step - loss: 2976423.1613 - val_loss: 18604006.0000\n",
      "Epoch 14/100\n",
      "30/30 [==============================] - 1s 25ms/step - loss: 2953740.8024 - val_loss: 18276064.0000\n",
      "Epoch 15/100\n",
      "30/30 [==============================] - 1s 20ms/step - loss: 2941412.8185 - val_loss: 18561688.0000\n",
      "Epoch 16/100\n",
      "30/30 [==============================] - 1s 25ms/step - loss: 2937537.8508 - val_loss: 18434226.0000\n",
      "Epoch 17/100\n",
      "30/30 [==============================] - 0s 13ms/step - loss: 2883327.2581 - val_loss: 18819794.0000\n",
      "Epoch 18/100\n",
      "30/30 [==============================] - 0s 15ms/step - loss: 2848999.6532 - val_loss: 18451312.0000\n",
      "Epoch 19/100\n",
      "30/30 [==============================] - 1s 20ms/step - loss: 2842299.8306 - val_loss: 18475036.0000\n",
      "Epoch 20/100\n",
      "30/30 [==============================] - 0s 15ms/step - loss: 2806872.3185 - val_loss: 18407052.0000\n",
      "Epoch 21/100\n",
      "30/30 [==============================] - 1s 20ms/step - loss: 2759792.4677 - val_loss: 17732514.0000\n",
      "Epoch 22/100\n",
      "30/30 [==============================] - 0s 15ms/step - loss: 2732234.3952 - val_loss: 17978440.0000\n",
      "Epoch 23/100\n",
      "30/30 [==============================] - 0s 14ms/step - loss: 2743634.5685 - val_loss: 18244164.0000\n",
      "Epoch 24/100\n",
      "30/30 [==============================] - 0s 15ms/step - loss: 2692477.3710 - val_loss: 17949722.0000\n",
      "Epoch 25/100\n",
      "30/30 [==============================] - 1s 21ms/step - loss: 2646366.0363 - val_loss: 17947664.0000\n",
      "Epoch 26/100\n",
      "30/30 [==============================] - 0s 11ms/step - loss: 2657176.6089 - val_loss: 18113464.0000\n",
      "Epoch 27/100\n",
      "30/30 [==============================] - 0s 10ms/step - loss: 2613795.4879 - val_loss: 17954030.0000\n",
      "Epoch 28/100\n",
      "30/30 [==============================] - 0s 14ms/step - loss: 2627619.0081 - val_loss: 17750640.0000\n",
      "Epoch 29/100\n",
      "30/30 [==============================] - 0s 12ms/step - loss: 2613673.1129 - val_loss: 17447102.0000\n",
      "Epoch 30/100\n",
      "30/30 [==============================] - 0s 12ms/step - loss: 2577146.0161 - val_loss: 17915028.0000\n",
      "Epoch 31/100\n",
      "30/30 [==============================] - 0s 13ms/step - loss: 2706720.7177 - val_loss: 17785300.0000\n",
      "Epoch 32/100\n",
      "30/30 [==============================] - 0s 12ms/step - loss: 2754314.0887 - val_loss: 17973738.0000\n",
      "Epoch 33/100\n",
      "30/30 [==============================] - 0s 13ms/step - loss: 2707309.3065 - val_loss: 17835464.0000\n",
      "Epoch 34/100\n",
      "30/30 [==============================] - 0s 10ms/step - loss: 2674212.0484 - val_loss: 17920378.0000\n",
      "Epoch 35/100\n",
      "30/30 [==============================] - 1s 19ms/step - loss: 2651428.8306 - val_loss: 18075090.0000\n",
      "Epoch 36/100\n",
      "30/30 [==============================] - 0s 11ms/step - loss: 2565319.4718 - val_loss: 18163090.0000\n",
      "Epoch 37/100\n",
      "30/30 [==============================] - 0s 10ms/step - loss: 2530978.7903 - val_loss: 17333388.0000\n",
      "Epoch 38/100\n",
      "30/30 [==============================] - 0s 16ms/step - loss: 2516379.6048 - val_loss: 17675422.0000\n",
      "Epoch 39/100\n",
      "30/30 [==============================] - 0s 9ms/step - loss: 2526303.4556 - val_loss: 18151760.0000\n",
      "Epoch 40/100\n",
      "30/30 [==============================] - 0s 10ms/step - loss: 2625984.8871 - val_loss: 17791090.0000\n",
      "Epoch 41/100\n",
      "30/30 [==============================] - 0s 11ms/step - loss: 2687031.8226 - val_loss: 17891812.0000\n",
      "Epoch 42/100\n",
      "30/30 [==============================] - 0s 15ms/step - loss: 2593346.9315 - val_loss: 17685438.0000\n",
      "Epoch 43/100\n",
      "30/30 [==============================] - 0s 10ms/step - loss: 2556667.7379 - val_loss: 18082760.0000\n",
      "Epoch 44/100\n",
      "30/30 [==============================] - 0s 13ms/step - loss: 2465475.6371 - val_loss: 17792144.0000\n",
      "Epoch 45/100\n",
      "30/30 [==============================] - 1s 21ms/step - loss: 2537875.0040 - val_loss: 18066664.0000\n",
      "Epoch 46/100\n",
      "30/30 [==============================] - 0s 15ms/step - loss: 2525025.3306 - val_loss: 18767746.0000\n",
      "Epoch 47/100\n",
      "30/30 [==============================] - 0s 14ms/step - loss: 2479126.4153 - val_loss: 17846010.0000\n"
     ]
    }
   ],
   "source": [
    "# define model\n",
    "model = Sequential()\n",
    "model.add(ConvLSTM2D(filters=64, kernel_size=(1,2), activation='relu', input_shape=(n_seq, 1, n_steps, n_features)))\n",
    "model.add(Flatten())\n",
    "model.add(Dense(1))\n",
    "model.compile(optimizer='adam', loss='mse')\n",
    "# fit model\n",
    "history = model.fit(X, y, epochs=100, batch_size=30, verbose=1, validation_data=(X2,y2),callbacks=[EarlyStopping(monitor='val_loss', patience=10)],shuffle=False)\n"
   ]
  },
  {
   "cell_type": "code",
   "execution_count": 10,
   "metadata": {},
   "outputs": [],
   "source": [
    "def model_loss(history):\n",
    "    plt.figure(figsize=(8,4))\n",
    "    plt.plot(history.history['loss'], label='Train Loss')\n",
    "    plt.plot(history.history['val_loss'], label='Test Loss')\n",
    "    plt.title('ConvLSTM model loss')\n",
    "    plt.ylabel('loss')\n",
    "    plt.xlabel('epochs')\n",
    "    plt.legend(loc='upper right')\n",
    "    plt.show();"
   ]
  },
  {
   "cell_type": "code",
   "execution_count": 11,
   "metadata": {},
   "outputs": [
    {
     "name": "stdout",
     "output_type": "stream",
     "text": [
      "Model: \"sequential\"\n",
      "_________________________________________________________________\n",
      "Layer (type)                 Output Shape              Param #   \n",
      "=================================================================\n",
      "conv_lst_m2d (ConvLSTM2D)    (None, 1, 2, 64)          33536     \n",
      "_________________________________________________________________\n",
      "flatten (Flatten)            (None, 128)               0         \n",
      "_________________________________________________________________\n",
      "dense (Dense)                (None, 1)                 129       \n",
      "=================================================================\n",
      "Total params: 33,665\n",
      "Trainable params: 33,665\n",
      "Non-trainable params: 0\n",
      "_________________________________________________________________\n"
     ]
    }
   ],
   "source": [
    "model.summary()"
   ]
  },
  {
   "cell_type": "code",
   "execution_count": 12,
   "metadata": {},
   "outputs": [
    {
     "data": {
      "image/png": "[encoded data removed]",
      "text/plain": [
       "<Figure size 576x288 with 1 Axes>"
      ]
     },
     "metadata": {
      "needs_background": "light"
     },
     "output_type": "display_data"
    }
   ],
   "source": [
    "train_score = model.evaluate(X, y, verbose=0)\n",
    "#print('Train Root Mean Squared Error(RMSE): %.2f; Train Mean Absolute Error(MAE) : %.2f ' \n",
    "#% (np.sqrt(train_score[1]), train_score[2]))\n",
    "#test_score = model.evaluate(X_test, test_set, verbose=0)\n",
    "#print('Test Root Mean Squared Error(RMSE): %.2f; Test Mean Absolute Error(MAE) : %.2f ' \n",
    "#% (np.sqrt(test_score[1]), test_score[2]))\n",
    "model_loss(history)"
   ]
  },
  {
   "cell_type": "code",
   "execution_count": 13,
   "metadata": {},
   "outputs": [
    {
     "name": "stdout",
     "output_type": "stream",
     "text": [
      "93\n"
     ]
    }
   ],
   "source": [
    "pred = model.predict(X2)\n",
    "print(len(pred))\n",
    "foreConvLSTM= pd.DataFrame(pred)\n",
    "foreConvLSTM.to_csv(r\"C:\\Users\\cash\\Desktop\\tafa\\Forecasting and Predicriom Notebooks&Datasets RJ\\exported_ConvLSTMforecasts_dataframe.csv\",index = False,header=True)"
   ]
  },
  {
   "cell_type": "code",
   "execution_count": 15,
   "metadata": {},
   "outputs": [
    {
     "data": {
      "text/html": [
       "<div>\n",
       "<style scoped>\n",
       "    .dataframe tbody tr th:only-of-type {\n",
       "        vertical-align: middle;\n",
       "    }\n",
       "\n",
       "    .dataframe tbody tr th {\n",
       "        vertical-align: top;\n",
       "    }\n",
       "\n",
       "    .dataframe thead th {\n",
       "        text-align: right;\n",
       "    }\n",
       "</style>\n",
       "<table border=\"1\" class=\"dataframe\">\n",
       "  <thead>\n",
       "    <tr style=\"text-align: right;\">\n",
       "      <th></th>\n",
       "      <th>Actual Sales</th>\n",
       "      <th>ConvLSTM</th>\n",
       "    </tr>\n",
       "    <tr>\n",
       "      <th>Date</th>\n",
       "      <th></th>\n",
       "      <th></th>\n",
       "    </tr>\n",
       "  </thead>\n",
       "  <tbody>\n",
       "    <tr>\n",
       "      <th>30-Sep-20</th>\n",
       "      <td>6561.50</td>\n",
       "      <td>4925.681641</td>\n",
       "    </tr>\n",
       "    <tr>\n",
       "      <th>1-Oct-20</th>\n",
       "      <td>4599.50</td>\n",
       "      <td>5869.018555</td>\n",
       "    </tr>\n",
       "    <tr>\n",
       "      <th>2-Oct-20</th>\n",
       "      <td>4983.00</td>\n",
       "      <td>4083.654541</td>\n",
       "    </tr>\n",
       "    <tr>\n",
       "      <th>3-Oct-20</th>\n",
       "      <td>16826.00</td>\n",
       "      <td>4813.206543</td>\n",
       "    </tr>\n",
       "    <tr>\n",
       "      <th>4-Oct-20</th>\n",
       "      <td>28484.00</td>\n",
       "      <td>8434.786133</td>\n",
       "    </tr>\n",
       "    <tr>\n",
       "      <th>...</th>\n",
       "      <td>...</td>\n",
       "      <td>...</td>\n",
       "    </tr>\n",
       "    <tr>\n",
       "      <th>27-Dec-20</th>\n",
       "      <td>3116.25</td>\n",
       "      <td>2362.259277</td>\n",
       "    </tr>\n",
       "    <tr>\n",
       "      <th>28-Dec-20</th>\n",
       "      <td>7736.05</td>\n",
       "      <td>2955.936035</td>\n",
       "    </tr>\n",
       "    <tr>\n",
       "      <th>29-Dec-20</th>\n",
       "      <td>6981.61</td>\n",
       "      <td>4334.067383</td>\n",
       "    </tr>\n",
       "    <tr>\n",
       "      <th>30-Dec-20</th>\n",
       "      <td>3702.45</td>\n",
       "      <td>4780.296875</td>\n",
       "    </tr>\n",
       "    <tr>\n",
       "      <th>31-Dec-20</th>\n",
       "      <td>5132.95</td>\n",
       "      <td>5735.838867</td>\n",
       "    </tr>\n",
       "  </tbody>\n",
       "</table>\n",
       "<p>93 rows × 2 columns</p>\n",
       "</div>"
      ],
      "text/plain": [
       "           Actual Sales     ConvLSTM\n",
       "Date                                \n",
       "30-Sep-20       6561.50  4925.681641\n",
       "1-Oct-20        4599.50  5869.018555\n",
       "2-Oct-20        4983.00  4083.654541\n",
       "3-Oct-20       16826.00  4813.206543\n",
       "4-Oct-20       28484.00  8434.786133\n",
       "...                 ...          ...\n",
       "27-Dec-20       3116.25  2362.259277\n",
       "28-Dec-20       7736.05  2955.936035\n",
       "29-Dec-20       6981.61  4334.067383\n",
       "30-Dec-20       3702.45  4780.296875\n",
       "31-Dec-20       5132.95  5735.838867\n",
       "\n",
       "[93 rows x 2 columns]"
      ]
     },
     "execution_count": 15,
     "metadata": {},
     "output_type": "execute_result"
    }
   ],
   "source": [
    "actual_fore=test.rename(columns={\"Sales\":\"Actual Sales\"})\n",
    "actual_fore[\"ConvLSTM\"]=foreConvLSTM.values\n",
    "ConvLSTM=actual_fore\n",
    "ConvLSTM"
   ]
  },
  {
   "cell_type": "code",
   "execution_count": 16,
   "metadata": {},
   "outputs": [
    {
     "data": {
      "image/png": "[encoded data removed]",
      "text/plain": [
       "<Figure size 1080x432 with 1 Axes>"
      ]
     },
     "metadata": {
      "needs_background": "light"
     },
     "output_type": "display_data"
    }
   ],
   "source": [
    "from matplotlib import pyplot\n",
    "ConvLSTM['Actual Sales'].plot(figsize=(15,6),label=\"Actual Sales\")\n",
    "ConvLSTM['ConvLSTM'].plot(figsize=(15,6), label = \"ConvLSTM\")\n",
    "pyplot.xlabel(\"Date\")\n",
    "pyplot.ylabel(\"Sales\")\n",
    "pyplot.title(\"Actual Sales VS Convolutional LSTM Forecast\")\n",
    "pyplot.legend()\n",
    "pyplot.savefig(\"series plot.png\")\n",
    "pyplot.show()"
   ]
  },
  {
   "cell_type": "code",
   "execution_count": 17,
   "metadata": {},
   "outputs": [],
   "source": [
    "y_true1 = ConvLSTM[\"Actual Sales\"].dropna()\n",
    "y_pred1 = ConvLSTM[\"ConvLSTM\"].dropna()"
   ]
  },
  {
   "cell_type": "code",
   "execution_count": 18,
   "metadata": {},
   "outputs": [
    {
     "name": "stdout",
     "output_type": "stream",
     "text": [
      "Evaluation metric results:-\n",
      "MSE is : 17846009.226177927\n",
      "MAE is : 2964.4695401755707\n",
      "RMSE is : 4224.45371926098\n",
      "MAPE is : 42.12469073900748\n",
      "R2 is : -0.17128670505987076\n",
      "\n",
      "None\n"
     ]
    }
   ],
   "source": [
    "from sklearn import metrics\n",
    "def timeseries_evaluation_metrics_func(y_true, y_pred):\n",
    "    \n",
    "    def mean_absolute_percentage_error(y_true, y_pred): \n",
    "        y_true, y_pred = np.array(y_true), np.array(y_pred)\n",
    "        return np.mean(np.abs((y_true - y_pred) / y_true)) * 100\n",
    "    print('Evaluation metric results:-')\n",
    "    print(f'MSE is : {metrics.mean_squared_error(y_true, y_pred)}')\n",
    "    print(f'MAE is : {metrics.mean_absolute_error(y_true, y_pred)}')\n",
    "    print(f'RMSE is : {np.sqrt(metrics.mean_squared_error(y_true, y_pred))}')\n",
    "    print(f'MAPE is : {mean_absolute_percentage_error(y_true, y_pred)}')\n",
    "    print(f'R2 is : {metrics.r2_score(y_true, y_pred)}',end='\\n\\n')\n",
    "print(timeseries_evaluation_metrics_func(y_true1, y_pred1))"
   ]
  },
  {
   "cell_type": "code",
   "execution_count": null,
   "metadata": {},
   "outputs": [],
   "source": []
  },
  {
   "cell_type": "code",
   "execution_count": null,
   "metadata": {},
   "outputs": [],
   "source": []
  },
  {
   "cell_type": "code",
   "execution_count": null,
   "metadata": {},
   "outputs": [],
   "source": []
  },
  {
   "cell_type": "code",
   "execution_count": null,
   "metadata": {},
   "outputs": [],
   "source": []
  },
  {
   "cell_type": "code",
   "execution_count": null,
   "metadata": {},
   "outputs": [],
   "source": []
  },
  {
   "cell_type": "code",
   "execution_count": null,
   "metadata": {},
   "outputs": [],
   "source": []
  },
  {
   "cell_type": "code",
   "execution_count": null,
   "metadata": {},
   "outputs": [],
   "source": []
  },
  {
   "cell_type": "code",
   "execution_count": null,
   "metadata": {},
   "outputs": [],
   "source": []
  },
  {
   "cell_type": "code",
   "execution_count": null,
   "metadata": {},
   "outputs": [],
   "source": []
  },
  {
   "cell_type": "code",
   "execution_count": null,
   "metadata": {},
   "outputs": [],
   "source": []
  },
  {
   "cell_type": "code",
   "execution_count": null,
   "metadata": {},
   "outputs": [],
   "source": []
  },
  {
   "cell_type": "code",
   "execution_count": null,
   "metadata": {},
   "outputs": [],
   "source": []
  },
  {
   "cell_type": "code",
   "execution_count": null,
   "metadata": {},
   "outputs": [],
   "source": []
  },
  {
   "cell_type": "code",
   "execution_count": null,
   "metadata": {},
   "outputs": [],
   "source": []
  },
  {
   "cell_type": "code",
   "execution_count": null,
   "metadata": {},
   "outputs": [],
   "source": []
  },
  {
   "cell_type": "code",
   "execution_count": null,
   "metadata": {},
   "outputs": [],
   "source": []
  },
  {
   "cell_type": "code",
   "execution_count": 1,
   "metadata": {},
   "outputs": [],
   "source": []
  },
  {
   "cell_type": "code",
   "execution_count": null,
   "metadata": {},
   "outputs": [],
   "source": []
  },
  {
   "cell_type": "code",
   "execution_count": null,
   "metadata": {},
   "outputs": [],
   "source": []
  },
  {
   "cell_type": "code",
   "execution_count": null,
   "metadata": {},
   "outputs": [],
   "source": []
  },
  {
   "cell_type": "code",
   "execution_count": null,
   "metadata": {},
   "outputs": [],
   "source": []
  },
  {
   "cell_type": "code",
   "execution_count": null,
   "metadata": {},
   "outputs": [],
   "source": []
  },
  {
   "cell_type": "code",
   "execution_count": null,
   "metadata": {},
   "outputs": [],
   "source": []
  }
 ],
 "metadata": {
  "kernelspec": {
   "display_name": "Python 3",
   "language": "python",
   "name": "python3"
  },
  "language_info": {
   "codemirror_mode": {
    "name": "ipython",
    "version": 3
   },
   "file_extension": ".py",
   "mimetype": "text/x-python",
   "name": "python",
   "nbconvert_exporter": "python",
   "pygments_lexer": "ipython3",
   "version": "3.8.5"
  }
 },
 "nbformat": 4,
 "nbformat_minor": 5
}
