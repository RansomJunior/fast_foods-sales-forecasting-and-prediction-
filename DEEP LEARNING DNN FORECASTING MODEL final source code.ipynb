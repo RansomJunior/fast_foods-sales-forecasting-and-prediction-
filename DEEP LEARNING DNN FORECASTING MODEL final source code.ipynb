{
 "cells": [
  {
   "cell_type": "markdown",
   "metadata": {},
   "source": [
    "## Model 1: DNN\n",
    "A deep neural network (DNN) is an artificial neural network (ANN) with multiple layers between the input and output layers — from Wiki\n",
    "How to apply DNN for time-series data? The key idea here: we consider time-series as linear model: {X(i) …X(i+t)}~Y(i+t+1). In the format, it shows using t steps input time-series to predict the next step which is Y(i+t+1)."
   ]
  },
  {
   "cell_type": "code",
   "execution_count": 1,
   "metadata": {},
   "outputs": [],
   "source": [
    "import pandas as pd\n",
    "data = pd.read_csv(\"timeseries_salesdata.csv\")\n",
    "data.set_index(\"Date\", inplace =True)"
   ]
  },
  {
   "cell_type": "code",
   "execution_count": 2,
   "metadata": {},
   "outputs": [
    {
     "data": {
      "text/html": [
       "<div>\n",
       "<style scoped>\n",
       "    .dataframe tbody tr th:only-of-type {\n",
       "        vertical-align: middle;\n",
       "    }\n",
       "\n",
       "    .dataframe tbody tr th {\n",
       "        vertical-align: top;\n",
       "    }\n",
       "\n",
       "    .dataframe thead th {\n",
       "        text-align: right;\n",
       "    }\n",
       "</style>\n",
       "<table border=\"1\" class=\"dataframe\">\n",
       "  <thead>\n",
       "    <tr style=\"text-align: right;\">\n",
       "      <th></th>\n",
       "      <th>Sales</th>\n",
       "    </tr>\n",
       "    <tr>\n",
       "      <th>Date</th>\n",
       "      <th></th>\n",
       "    </tr>\n",
       "  </thead>\n",
       "  <tbody>\n",
       "    <tr>\n",
       "      <th>11-Apr-18</th>\n",
       "      <td>4388.23</td>\n",
       "    </tr>\n",
       "    <tr>\n",
       "      <th>12-Apr-18</th>\n",
       "      <td>5206.76</td>\n",
       "    </tr>\n",
       "    <tr>\n",
       "      <th>13-Apr-18</th>\n",
       "      <td>1784.65</td>\n",
       "    </tr>\n",
       "    <tr>\n",
       "      <th>14-Apr-18</th>\n",
       "      <td>2419.71</td>\n",
       "    </tr>\n",
       "    <tr>\n",
       "      <th>15-Apr-18</th>\n",
       "      <td>2462.46</td>\n",
       "    </tr>\n",
       "  </tbody>\n",
       "</table>\n",
       "</div>"
      ],
      "text/plain": [
       "             Sales\n",
       "Date              \n",
       "11-Apr-18  4388.23\n",
       "12-Apr-18  5206.76\n",
       "13-Apr-18  1784.65\n",
       "14-Apr-18  2419.71\n",
       "15-Apr-18  2462.46"
      ]
     },
     "execution_count": 2,
     "metadata": {},
     "output_type": "execute_result"
    }
   ],
   "source": [
    "data.head()"
   ]
  },
  {
   "cell_type": "code",
   "execution_count": 3,
   "metadata": {},
   "outputs": [
    {
     "data": {
      "text/plain": [
       "Sales    float64\n",
       "dtype: object"
      ]
     },
     "execution_count": 3,
     "metadata": {},
     "output_type": "execute_result"
    }
   ],
   "source": [
    "data.dtypes"
   ]
  },
  {
   "cell_type": "code",
   "execution_count": 4,
   "metadata": {},
   "outputs": [],
   "source": [
    "import numpy as np\n",
    "from matplotlib import pyplot\n",
    "import matplotlib.pyplot as plt"
   ]
  },
  {
   "cell_type": "markdown",
   "metadata": {},
   "source": [
    "Step 1: Data Preprocessing\n",
    "Import a helper function of convert2matrix to reshape dataset in order to create 2-D input shape of DNN. A full connected net — the main difference between RNN or LTSM"
   ]
  },
  {
   "cell_type": "code",
   "execution_count": 5,
   "metadata": {},
   "outputs": [],
   "source": [
    "def convert2matrix(data_arr, look_back):\n",
    " X, Y =[], []\n",
    " for i in range(len(data_arr)-look_back):\n",
    "  d=i+look_back  \n",
    "  X.append(data_arr[i:d,0])\n",
    "  Y.append(data_arr[d,0])\n",
    " return np.array(X), np.array(Y)"
   ]
  },
  {
   "cell_type": "code",
   "execution_count": 6,
   "metadata": {},
   "outputs": [],
   "source": [
    "#Split data set into testing dataset and train dataset\n",
    "train_size = 900\n",
    "train, test =data.values[0:train_size,:],data.values[train_size:len(data.values),:]\n",
    "# setup look_back window \n",
    "look_back = 1\n",
    "#convert dataset into right shape in order to input into the DNN\n",
    "trainX, trainY = convert2matrix(train, look_back)\n",
    "testX, testY = convert2matrix(test, look_back)"
   ]
  },
  {
   "cell_type": "code",
   "execution_count": 7,
   "metadata": {},
   "outputs": [
    {
     "data": {
      "text/plain": [
       "(95, 1)"
      ]
     },
     "execution_count": 7,
     "metadata": {},
     "output_type": "execute_result"
    }
   ],
   "source": [
    "testX.shape"
   ]
  },
  {
   "cell_type": "markdown",
   "metadata": {},
   "source": [
    "Step 2: Define neural network shape and compile model\n",
    "I built a very simple DNN with only one hidden layer.\n"
   ]
  },
  {
   "cell_type": "code",
   "execution_count": 8,
   "metadata": {},
   "outputs": [],
   "source": [
    "from keras.models import Sequential\n",
    "from keras.layers import Dense\n",
    "def model_dnn(look_back):\n",
    "    model=Sequential()\n",
    "    model.add(Dense(units=32, input_dim=look_back, activation='relu'))\n",
    "    model.add(Dense(8, activation='relu'))\n",
    "    model.add(Dense(1))\n",
    "    model.compile(loss='mean_squared_error',  optimizer='adam',metrics = ['mse', 'mae'])\n",
    "    return model"
   ]
  },
  {
   "cell_type": "code",
   "execution_count": 9,
   "metadata": {},
   "outputs": [],
   "source": [
    "from keras.callbacks import ModelCheckpoint, EarlyStopping"
   ]
  },
  {
   "cell_type": "code",
   "execution_count": 11,
   "metadata": {},
   "outputs": [
    {
     "name": "stdout",
     "output_type": "stream",
     "text": [
      "Epoch 1/100\n",
      "30/30 [==============================] - 4s 43ms/step - loss: 15996049.7097 - mse: 15996049.7097 - mae: 3672.6286 - val_loss: 48546860.0000 - val_mse: 48546860.0000 - val_mae: 5955.7617\n",
      "Epoch 2/100\n",
      "30/30 [==============================] - 0s 12ms/step - loss: 8785843.9032 - mse: 8785843.7903 - mae: 2486.1472 - val_loss: 26121116.0000 - val_mse: 26121116.0000 - val_mae: 3966.3435\n",
      "Epoch 3/100\n",
      "30/30 [==============================] - 0s 8ms/step - loss: 5311574.2661 - mse: 5311574.2661 - mae: 1805.0432 - val_loss: 17282790.0000 - val_mse: 17282790.0000 - val_mae: 2974.4136\n",
      "Epoch 4/100\n",
      "30/30 [==============================] - 0s 7ms/step - loss: 4451669.7823 - mse: 4451669.7823 - mae: 1592.6262 - val_loss: 16557743.0000 - val_mse: 16557743.0000 - val_mae: 2857.4290\n",
      "Epoch 5/100\n",
      "30/30 [==============================] - 0s 8ms/step - loss: 4553771.7500 - mse: 4553771.7500 - mae: 1578.8139 - val_loss: 16601681.0000 - val_mse: 16601681.0000 - val_mae: 2862.8657\n",
      "Epoch 6/100\n",
      "30/30 [==============================] - 0s 11ms/step - loss: 4565858.9355 - mse: 4565858.9355 - mae: 1580.6588 - val_loss: 16579374.0000 - val_mse: 16579374.0000 - val_mae: 2859.4893\n",
      "Epoch 7/100\n",
      "30/30 [==============================] - 0s 11ms/step - loss: 4557937.5645 - mse: 4557937.5645 - mae: 1580.5152 - val_loss: 16580570.0000 - val_mse: 16580570.0000 - val_mae: 2859.6948\n",
      "Epoch 8/100\n",
      "30/30 [==============================] - 0s 9ms/step - loss: 4559370.1935 - mse: 4559370.3145 - mae: 1580.4832 - val_loss: 16583316.0000 - val_mse: 16583316.0000 - val_mae: 2860.1465\n",
      "Epoch 9/100\n",
      "30/30 [==============================] - 0s 9ms/step - loss: 4561009.6532 - mse: 4561009.6532 - mae: 1580.5472 - val_loss: 16584812.0000 - val_mse: 16584812.0000 - val_mae: 2860.3911\n",
      "Epoch 10/100\n",
      "30/30 [==============================] - 0s 11ms/step - loss: 4562120.4355 - mse: 4562120.4355 - mae: 1580.5922 - val_loss: 16586303.0000 - val_mse: 16586303.0000 - val_mae: 2860.6333\n",
      "Epoch 11/100\n",
      "30/30 [==============================] - 0s 10ms/step - loss: 4563210.1855 - mse: 4563210.1855 - mae: 1580.6319 - val_loss: 16587765.0000 - val_mse: 16587765.0000 - val_mae: 2860.8674\n",
      "Epoch 12/100\n",
      "30/30 [==============================] - 0s 7ms/step - loss: 4564251.1048 - mse: 4564251.1048 - mae: 1580.6691 - val_loss: 16589156.0000 - val_mse: 16589156.0000 - val_mae: 2861.0879\n",
      "Epoch 13/100\n",
      "30/30 [==============================] - 0s 8ms/step - loss: 4565234.9274 - mse: 4565234.9274 - mae: 1580.7032 - val_loss: 16590494.0000 - val_mse: 16590494.0000 - val_mae: 2861.2976\n",
      "Epoch 14/100\n",
      "30/30 [==============================] - 0s 7ms/step - loss: 4566173.1210 - mse: 4566173.1210 - mae: 1580.7345 - val_loss: 16591780.0000 - val_mse: 16591780.0000 - val_mae: 2861.4980\n"
     ]
    }
   ],
   "source": [
    "#Step 3: Fit Model\n",
    "model=model_dnn(look_back)\n",
    "history=model.fit(trainX,trainY, epochs=100, batch_size=30, verbose=1, validation_data=(testX,testY),callbacks=[EarlyStopping(monitor='val_loss', patience=10)],shuffle=False)"
   ]
  },
  {
   "cell_type": "code",
   "execution_count": 12,
   "metadata": {
    "scrolled": false
   },
   "outputs": [
    {
     "name": "stdout",
     "output_type": "stream",
     "text": [
      "Model: \"sequential_1\"\n",
      "_________________________________________________________________\n",
      "Layer (type)                 Output Shape              Param #   \n",
      "=================================================================\n",
      "dense_3 (Dense)              (None, 32)                64        \n",
      "_________________________________________________________________\n",
      "dense_4 (Dense)              (None, 8)                 264       \n",
      "_________________________________________________________________\n",
      "dense_5 (Dense)              (None, 1)                 9         \n",
      "=================================================================\n",
      "Total params: 337\n",
      "Trainable params: 337\n",
      "Non-trainable params: 0\n",
      "_________________________________________________________________\n",
      "None\n"
     ]
    }
   ],
   "source": [
    "print(model.summary())"
   ]
  },
  {
   "cell_type": "code",
   "execution_count": 13,
   "metadata": {},
   "outputs": [
    {
     "data": {
      "text/plain": [
       "95"
      ]
     },
     "execution_count": 13,
     "metadata": {},
     "output_type": "execute_result"
    }
   ],
   "source": [
    "dnnfore = model.predict(testX)\n",
    "#test_predict=dnnfore\n",
    "#dnnpre = \n",
    "#dnnfore.reshape\n",
    "len(dnnfore)"
   ]
  },
  {
   "cell_type": "code",
   "execution_count": 14,
   "metadata": {},
   "outputs": [
    {
     "data": {
      "text/html": [
       "<div>\n",
       "<style scoped>\n",
       "    .dataframe tbody tr th:only-of-type {\n",
       "        vertical-align: middle;\n",
       "    }\n",
       "\n",
       "    .dataframe tbody tr th {\n",
       "        vertical-align: top;\n",
       "    }\n",
       "\n",
       "    .dataframe thead th {\n",
       "        text-align: right;\n",
       "    }\n",
       "</style>\n",
       "<table border=\"1\" class=\"dataframe\">\n",
       "  <thead>\n",
       "    <tr style=\"text-align: right;\">\n",
       "      <th></th>\n",
       "      <th>Actual Sales</th>\n",
       "    </tr>\n",
       "    <tr>\n",
       "      <th>Date</th>\n",
       "      <th></th>\n",
       "    </tr>\n",
       "  </thead>\n",
       "  <tbody>\n",
       "    <tr>\n",
       "      <th>28-Sep-20</th>\n",
       "      <td>5923.40</td>\n",
       "    </tr>\n",
       "    <tr>\n",
       "      <th>29-Sep-20</th>\n",
       "      <td>4592.55</td>\n",
       "    </tr>\n",
       "    <tr>\n",
       "      <th>30-Sep-20</th>\n",
       "      <td>6561.50</td>\n",
       "    </tr>\n",
       "    <tr>\n",
       "      <th>1-Oct-20</th>\n",
       "      <td>4599.50</td>\n",
       "    </tr>\n",
       "    <tr>\n",
       "      <th>2-Oct-20</th>\n",
       "      <td>4983.00</td>\n",
       "    </tr>\n",
       "  </tbody>\n",
       "</table>\n",
       "</div>"
      ],
      "text/plain": [
       "           Actual Sales\n",
       "Date                   \n",
       "28-Sep-20       5923.40\n",
       "29-Sep-20       4592.55\n",
       "30-Sep-20       6561.50\n",
       "1-Oct-20        4599.50\n",
       "2-Oct-20        4983.00"
      ]
     },
     "execution_count": 14,
     "metadata": {},
     "output_type": "execute_result"
    }
   ],
   "source": [
    "actual = pd.DataFrame(data['Sales'].tail(95))\n",
    "actual=actual.rename(columns={'Sales':'Actual Sales'})\n",
    "dnnfore = pd.DataFrame(dnnfore)\n",
    "dnnfore.to_csv(r\"C:\\Users\\cash\\Desktop\\tafa\\Forecasting and Predicriom Notebooks&Datasets RJ\\exported_DNNforecasts_dataframe.csv\",index = False,header=True)\n",
    "actual.head()"
   ]
  },
  {
   "cell_type": "code",
   "execution_count": 15,
   "metadata": {},
   "outputs": [
    {
     "data": {
      "text/html": [
       "<div>\n",
       "<style scoped>\n",
       "    .dataframe tbody tr th:only-of-type {\n",
       "        vertical-align: middle;\n",
       "    }\n",
       "\n",
       "    .dataframe tbody tr th {\n",
       "        vertical-align: top;\n",
       "    }\n",
       "\n",
       "    .dataframe thead th {\n",
       "        text-align: right;\n",
       "    }\n",
       "</style>\n",
       "<table border=\"1\" class=\"dataframe\">\n",
       "  <thead>\n",
       "    <tr style=\"text-align: right;\">\n",
       "      <th></th>\n",
       "      <th>Actual Sales</th>\n",
       "      <th>dnn</th>\n",
       "    </tr>\n",
       "    <tr>\n",
       "      <th>Date</th>\n",
       "      <th></th>\n",
       "      <th></th>\n",
       "    </tr>\n",
       "  </thead>\n",
       "  <tbody>\n",
       "    <tr>\n",
       "      <th>28-Sep-20</th>\n",
       "      <td>5923.40</td>\n",
       "      <td>7598.896484</td>\n",
       "    </tr>\n",
       "    <tr>\n",
       "      <th>29-Sep-20</th>\n",
       "      <td>4592.55</td>\n",
       "      <td>5349.424316</td>\n",
       "    </tr>\n",
       "    <tr>\n",
       "      <th>30-Sep-20</th>\n",
       "      <td>6561.50</td>\n",
       "      <td>4147.806152</td>\n",
       "    </tr>\n",
       "    <tr>\n",
       "      <th>1-Oct-20</th>\n",
       "      <td>4599.50</td>\n",
       "      <td>5925.561523</td>\n",
       "    </tr>\n",
       "    <tr>\n",
       "      <th>2-Oct-20</th>\n",
       "      <td>4983.00</td>\n",
       "      <td>4154.081543</td>\n",
       "    </tr>\n",
       "  </tbody>\n",
       "</table>\n",
       "</div>"
      ],
      "text/plain": [
       "           Actual Sales          dnn\n",
       "Date                                \n",
       "28-Sep-20       5923.40  7598.896484\n",
       "29-Sep-20       4592.55  5349.424316\n",
       "30-Sep-20       6561.50  4147.806152\n",
       "1-Oct-20        4599.50  5925.561523\n",
       "2-Oct-20        4983.00  4154.081543"
      ]
     },
     "execution_count": 15,
     "metadata": {},
     "output_type": "execute_result"
    }
   ],
   "source": [
    "actual[\"dnn\"]=dnnfore.values\n",
    "dnn=actual\n",
    "dnn.head()"
   ]
  },
  {
   "cell_type": "code",
   "execution_count": 17,
   "metadata": {},
   "outputs": [
    {
     "data": {
      "text/plain": [
       "'\\ndnnfore = model.predict(testX)\\n#test_predict=dnnfore\\n#dnnpre = \\n#dnnfore.reshape(96,1)\\n'"
      ]
     },
     "execution_count": 17,
     "metadata": {},
     "output_type": "execute_result"
    }
   ],
   "source": [
    "'''\n",
    "dnnfore = model.predict(testX)\n",
    "#test_predict=dnnfore\n",
    "#dnnpre = \n",
    "#dnnfore.reshape(96,1)\n",
    "'''"
   ]
  },
  {
   "cell_type": "code",
   "execution_count": null,
   "metadata": {},
   "outputs": [],
   "source": []
  },
  {
   "cell_type": "code",
   "execution_count": null,
   "metadata": {},
   "outputs": [],
   "source": []
  },
  {
   "cell_type": "code",
   "execution_count": 16,
   "metadata": {},
   "outputs": [],
   "source": [
    "#Step 4: Model evaluation\n",
    "def model_loss(history):\n",
    "    plt.figure(figsize=(8,4))\n",
    "    plt.plot(history.history['loss'], label='Train Loss')\n",
    "    plt.plot(history.history['val_loss'], label='Test Loss')\n",
    "    plt.title('DNN model loss')\n",
    "    plt.ylabel('loss')\n",
    "    plt.xlabel('epochs')\n",
    "    plt.legend(loc='upper right')\n",
    "    plt.show();"
   ]
  },
  {
   "cell_type": "code",
   "execution_count": 17,
   "metadata": {},
   "outputs": [
    {
     "name": "stdout",
     "output_type": "stream",
     "text": [
      "Train Root Mean Squared Error(RMSE): 2058.10; Train Mean Absolute Error(MAE) : 1456.51 \n",
      "Test Root Mean Squared Error(RMSE): 4071.24; Test Mean Absolute Error(MAE) : 2858.89 \n"
     ]
    },
    {
     "data": {
      "image/png": "[encoded data removed]",
      "text/plain": [
       "<Figure size 576x288 with 1 Axes>"
      ]
     },
     "metadata": {
      "needs_background": "light"
     },
     "output_type": "display_data"
    }
   ],
   "source": [
    "train_score = model.evaluate(trainX, trainY, verbose=0)\n",
    "print('Train Root Mean Squared Error(RMSE): %.2f; Train Mean Absolute Error(MAE) : %.2f ' \n",
    "% (np.sqrt(train_score[1]), train_score[2]))\n",
    "test_score = model.evaluate(testX, testY, verbose=0)\n",
    "print('Test Root Mean Squared Error(RMSE): %.2f; Test Mean Absolute Error(MAE) : %.2f ' \n",
    "% (np.sqrt(test_score[1]), test_score[2]))\n",
    "model_loss(history)"
   ]
  },
  {
   "cell_type": "code",
   "execution_count": 18,
   "metadata": {},
   "outputs": [],
   "source": [
    "from sklearn import metrics"
   ]
  },
  {
   "cell_type": "code",
   "execution_count": 19,
   "metadata": {},
   "outputs": [
    {
     "data": {
      "image/png": "[encoded data removed]",
      "text/plain": [
       "<Figure size 1080x432 with 1 Axes>"
      ]
     },
     "metadata": {
      "needs_background": "light"
     },
     "output_type": "display_data"
    }
   ],
   "source": [
    "dnn['Actual Sales'].plot(figsize=(15,6))\n",
    "dnn['dnn'].plot(figsize=(15,6))\n",
    "pyplot.xlabel(\"Date\")\n",
    "pyplot.ylabel(\"Sales\")\n",
    "pyplot.title(\"Actual Sales VS Deep Neural Network Forecast\")\n",
    "pyplot.legend()\n",
    "pyplot.savefig(\"series plot.png\")\n",
    "pyplot.show()"
   ]
  },
  {
   "cell_type": "code",
   "execution_count": 20,
   "metadata": {},
   "outputs": [],
   "source": [
    "y_true = dnn[\"Actual Sales\"].dropna()\n",
    "y_pred = dnn[\"dnn\"].dropna()"
   ]
  },
  {
   "cell_type": "code",
   "execution_count": 21,
   "metadata": {},
   "outputs": [
    {
     "name": "stdout",
     "output_type": "stream",
     "text": [
      "Evaluation metric results:-\n",
      "MSE is : 16574986.143163651\n",
      "MAE is : 2858.8926898643094\n",
      "RMSE is : 4071.238895368786\n",
      "MAPE is : 39.99596988944394\n",
      "R2 is : -0.10192119073021422\n",
      "\n",
      "None\n"
     ]
    }
   ],
   "source": [
    "def timeseries_evaluation_metrics_func(y_true, y_pred):\n",
    "    \n",
    "    def mean_absolute_percentage_error(y_true, y_pred): \n",
    "        y_true, y_pred = np.array(y_true), np.array(y_pred)\n",
    "        return np.mean(np.abs((y_true - y_pred) / y_true)) * 100\n",
    "    print('Evaluation metric results:-')\n",
    "    print(f'MSE is : {metrics.mean_squared_error(y_true, y_pred)}')\n",
    "    print(f'MAE is : {metrics.mean_absolute_error(y_true, y_pred)}')\n",
    "    print(f'RMSE is : {np.sqrt(metrics.mean_squared_error(y_true, y_pred))}')\n",
    "    print(f'MAPE is : {mean_absolute_percentage_error(y_true, y_pred)}')\n",
    "    print(f'R2 is : {metrics.r2_score(y_true, y_pred)}',end='\\n\\n')\n",
    "print(timeseries_evaluation_metrics_func(y_true, y_pred))"
   ]
  },
  {
   "cell_type": "code",
   "execution_count": 199,
   "metadata": {},
   "outputs": [],
   "source": []
  },
  {
   "cell_type": "code",
   "execution_count": null,
   "metadata": {},
   "outputs": [],
   "source": []
  },
  {
   "cell_type": "code",
   "execution_count": null,
   "metadata": {},
   "outputs": [],
   "source": []
  },
  {
   "cell_type": "code",
   "execution_count": 39,
   "metadata": {},
   "outputs": [],
   "source": []
  },
  {
   "cell_type": "code",
   "execution_count": null,
   "metadata": {},
   "outputs": [],
   "source": []
  },
  {
   "cell_type": "code",
   "execution_count": null,
   "metadata": {},
   "outputs": [],
   "source": []
  },
  {
   "cell_type": "code",
   "execution_count": null,
   "metadata": {},
   "outputs": [],
   "source": []
  },
  {
   "cell_type": "code",
   "execution_count": null,
   "metadata": {},
   "outputs": [],
   "source": []
  },
  {
   "cell_type": "markdown",
   "metadata": {},
   "source": []
  },
  {
   "cell_type": "code",
   "execution_count": null,
   "metadata": {},
   "outputs": [],
   "source": []
  },
  {
   "cell_type": "code",
   "execution_count": null,
   "metadata": {},
   "outputs": [],
   "source": []
  },
  {
   "cell_type": "code",
   "execution_count": null,
   "metadata": {},
   "outputs": [],
   "source": []
  },
  {
   "cell_type": "code",
   "execution_count": null,
   "metadata": {},
   "outputs": [],
   "source": []
  },
  {
   "cell_type": "code",
   "execution_count": null,
   "metadata": {},
   "outputs": [],
   "source": []
  },
  {
   "cell_type": "code",
   "execution_count": null,
   "metadata": {},
   "outputs": [],
   "source": []
  },
  {
   "cell_type": "code",
   "execution_count": null,
   "metadata": {},
   "outputs": [],
   "source": []
  },
  {
   "cell_type": "code",
   "execution_count": null,
   "metadata": {},
   "outputs": [],
   "source": []
  },
  {
   "cell_type": "code",
   "execution_count": null,
   "metadata": {},
   "outputs": [],
   "source": []
  },
  {
   "cell_type": "code",
   "execution_count": 155,
   "metadata": {},
   "outputs": [],
   "source": []
  },
  {
   "cell_type": "code",
   "execution_count": 158,
   "metadata": {},
   "outputs": [],
   "source": []
  },
  {
   "cell_type": "code",
   "execution_count": null,
   "metadata": {},
   "outputs": [],
   "source": []
  },
  {
   "cell_type": "code",
   "execution_count": null,
   "metadata": {},
   "outputs": [],
   "source": []
  },
  {
   "cell_type": "code",
   "execution_count": null,
   "metadata": {},
   "outputs": [],
   "source": []
  },
  {
   "cell_type": "code",
   "execution_count": null,
   "metadata": {},
   "outputs": [],
   "source": []
  },
  {
   "cell_type": "code",
   "execution_count": null,
   "metadata": {},
   "outputs": [],
   "source": []
  },
  {
   "cell_type": "code",
   "execution_count": null,
   "metadata": {},
   "outputs": [],
   "source": []
  },
  {
   "cell_type": "code",
   "execution_count": null,
   "metadata": {},
   "outputs": [],
   "source": []
  },
  {
   "cell_type": "markdown",
   "metadata": {},
   "source": []
  },
  {
   "cell_type": "code",
   "execution_count": 144,
   "metadata": {},
   "outputs": [],
   "source": []
  },
  {
   "cell_type": "code",
   "execution_count": 145,
   "metadata": {},
   "outputs": [],
   "source": []
  },
  {
   "cell_type": "code",
   "execution_count": 146,
   "metadata": {},
   "outputs": [],
   "source": []
  },
  {
   "cell_type": "code",
   "execution_count": 147,
   "metadata": {},
   "outputs": [],
   "source": []
  },
  {
   "cell_type": "code",
   "execution_count": null,
   "metadata": {},
   "outputs": [],
   "source": []
  },
  {
   "cell_type": "code",
   "execution_count": 52,
   "metadata": {},
   "outputs": [],
   "source": []
  },
  {
   "cell_type": "code",
   "execution_count": null,
   "metadata": {},
   "outputs": [],
   "source": [
    "\n"
   ]
  },
  {
   "cell_type": "code",
   "execution_count": null,
   "metadata": {},
   "outputs": [],
   "source": []
  },
  {
   "cell_type": "code",
   "execution_count": null,
   "metadata": {},
   "outputs": [],
   "source": []
  },
  {
   "cell_type": "code",
   "execution_count": null,
   "metadata": {},
   "outputs": [],
   "source": []
  },
  {
   "cell_type": "code",
   "execution_count": null,
   "metadata": {},
   "outputs": [],
   "source": []
  },
  {
   "cell_type": "code",
   "execution_count": null,
   "metadata": {},
   "outputs": [],
   "source": []
  }
 ],
 "metadata": {
  "kernelspec": {
   "display_name": "Python 3",
   "language": "python",
   "name": "python3"
  },
  "language_info": {
   "codemirror_mode": {
    "name": "ipython",
    "version": 3
   },
   "file_extension": ".py",
   "mimetype": "text/x-python",
   "name": "python",
   "nbconvert_exporter": "python",
   "pygments_lexer": "ipython3",
   "version": "3.8.5"
  }
 },
 "nbformat": 4,
 "nbformat_minor": 5
}
